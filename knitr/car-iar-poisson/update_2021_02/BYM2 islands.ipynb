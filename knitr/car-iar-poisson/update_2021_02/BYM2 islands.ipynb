{
 "cells": [
  {
   "cell_type": "markdown",
   "metadata": {},
   "source": [
    "## Freni-Sterrantino et al 2017 - BYM2 connected, disconnected for Scotland Lip Cancer Dataset\n",
    "\n",
    "Mitzi Morris"
   ]
  },
  {
   "cell_type": "markdown",
   "metadata": {},
   "source": [
    "In [A note on intrinsic Conditional Autoregressive models for disconnected graphs](https://arxiv.org/abs/1705.04854), Freni-Sterrantino et.al. show how to implement the BYM2 model for use with areal data where the graph structure of the map is not fully connected.  In this notebook, we present that Stan implementation of this proposal.\n",
    "\n",
    "The BYM2 model provides an intuitive parameterization for a GLM which has both an ICAR component $\\phi$ which accounts for the spatial structure of the data, and a ordinaty random effects component $\\theta$ for non-spatial heterogeneity.\n",
    "In addition, the BYM2 model has a single precision (scale) parameter $\\sigma$ on the combined components\n",
    "and a mixing parameter $\\rho$ for the amount of spatial/non-spatial variation.\n",
    "In order for $\\sigma$ to legitimately be the standard deviation of the combined components,\n",
    "it is critical that for each $i$, $\\operatorname{Var}(\\phi_i) \\approx \\operatorname{Var}(\\theta_i) \\approx 1$.\n",
    "This is done by adding a scaling factor $\\tau$ to the model which scales \n",
    "the proportion of variance $\\rho$.\n",
    "Riebler et al. recommend scaling the model so the geometric mean of these variances is 1.\n",
    "Because the scaling factor depends on the dataset, it comes into the model as data.\n",
    "\n",
    "The Stan case study [Spatial Models in Stan: Intrinsic Auto-Regressive Models for Areal Data](https://mc-stan.org/users/documentation/case-studies/icar_stan.html) for details on the ICAR, BYM, and BYM2 models. \n",
    "\n",
    "### Overview of BYM2 model for a fully connected spatial structure\n",
    "\n",
    "When the areal map is a single, fully connected component, i.e., a graph where any node in the graph can be reached from any other node, the BYM2 model is implemented as follows.\n",
    "\n",
    "The spatial structure and scaling factor are data inputs to the model:\n",
    "\n",
    "```\n",
    "data {\n",
    "  int<lower = 0> I;  // number of nodes\n",
    "  int<lower = 0> J;  // number of edges\n",
    "  int<lower = 1, upper = I> edges[2, J];  // node[1, j] adjacent to node[2, j]\n",
    "  real tau; // scaling factor\n",
    "```\n",
    "\n",
    "The spatial and heterogeneous effects, combined variance, and proportion of spatial variance are model parameters:\n",
    "\n",
    "```\n",
    "parameters {\n",
    "  real<lower=0, upper=1> rho; // proportion of spatial effect that's spatially smoothed\n",
    "  real<lower = 0> sigma;  // scale of spatial effects\n",
    "  vector[I] theta;  // standardized heterogeneous spatial effects\n",
    "  vector[I] phi;  // standardized spatially smoothed spatial effects\n",
    "```\n",
    "\n",
    "The combined BYM2 component is computed in the `transformed parameters` block:\n",
    "\n",
    "```\n",
    "transformed parameters {\n",
    "  // spatial effects (combine heterogeneous and spatially smoothed)\n",
    "  vector[I] gamma = (sqrt(1 - rho) * theta + sqrt(rho / tau) * phi) * sigma;\n",
    "```\n",
    "\n",
    "The ICAR component is implemented as log probability density function which computes the ICAR pairwise difference and imposes a soft sum-to-zero constraint:\n",
    "\n",
    "```\n",
    "real standard_icar_lpdf(vector phi, int[ , ] adjacency) {\n",
    "    return 0.5 * dot_self(phi[adjacency[1,]] - phi[adjacency[2]])\n",
    "\t  + normal_lpdf(sum(phi) | 0, 0.001 * rows(phi));\n",
    "}\n",
    "```\n",
    "\n",
    "### Freni-Sterrantino recommendations for a disconnected graph and Stan implementation\n",
    "\n",
    "Freni-Sterrantino et al show how to adjust the scaling factors when the areal map is not fully connected but has at least one connected multi-node component.  \n",
    "\n",
    "1. Each connected component of size > 1 is scaled independently\n",
    "2. Components of size 1 are scaled with a normal with precision K, where K is the number of components.\n",
    "\n",
    "To extend the BYM2 model to these areal maps, we agument this model with a series of per-component masks into the node and edgelists and use Stan's multi-index operator and vectorized operations for efficient computation.\n",
    "\n",
    "The spatial structure includes a set of arrays describing component-wise node, edgesets.\n",
    "The `_cts` arrays record the size of the node and edgelists for each component, the `_idx` arrays provide the indices of the members of each component.\n",
    "\n",
    "```\n",
    " int<lower=0, upper=I> K;  // number of components in spatial graph\n",
    "  int<lower=0, upper=I> K_node_cts[K];   // per-component nodes\n",
    "  int<lower=0, upper=J> K_edge_cts[K];   // per-component edges\n",
    "  int<lower=0, upper=I> K_node_idxs[K, I];  // rows contain per-component node indexes\n",
    "  int<lower=0, upper=J> K_edge_idxs[K, J];  // rows contain per-component edge indexes\n",
    "\n",
    "  vector[K] tau; // scaling factor\n",
    "```\n",
    "\n",
    "Per recommendataion 1, above, the combined spatial and random effects in the BYM2 model are computed component-wise, each with their own scaling factor.  For singletons, the scaling factor `tau` is 1/K.\n",
    "\n",
    "```\n",
    "transformed parameters {\n",
    "  vector[I] gamma;\n",
    "  // each component scaled by tau[k]\n",
    "  for (k in 1:K)\n",
    "    gamma[K_node_idxs[k, 1:K_node_cts[k]]] = \n",
    "            (sqrt(1 - rho) * theta[K_node_idxs[k, 1:K_node_cts[k]]]\n",
    "             +\n",
    "             sqrt(rho / tau) * phi[K_node_idxs[k, 1:K_node_cts[k]]])\n",
    "            * sigma;\n",
    "```\n",
    "\n",
    "The ICAR `_lpdf` function puts a sum-to-zero constraint on each component.\n",
    "Singletons have normal spatial variance.\n",
    "\n",
    "```\n",
    "real standard_icar_disconnected_lpdf(vector phi,\n",
    "\t\t\t\t       int[ , ] adjacency,\n",
    "\t\t\t\t       int[ ] node_cts,\n",
    "\t\t\t\t       int[ ] edge_cts,\n",
    "\t\t\t\t       int[ , ] node_idxs,\n",
    "\t\t\t\t       int[ , ] edge_idxs) {\n",
    "    real total = 0;\n",
    "    for (n in 1:size(node_cts)) {\n",
    "      if (node_cts[n] > 1)\n",
    "        total += -0.5 * dot_self(phi[adjacency[1, edge_idxs[n, 1:edge_cts[n]]]] -\n",
    "                                 phi[adjacency[2, edge_idxs[n, 1:edge_cts[n]]]])\n",
    "                  + normal_lpdf(sum(phi[node_idxs[n, 1:node_cts[n]]]) |\n",
    "                                      0, 0.001 * node_cts[n]);\n",
    "      else\n",
    "          total += normal_lpdf(phi[n] | 0, 1);  // iid spatial variance\n",
    "    }\n",
    "    return total;\n",
    "}\n",
    "```\n"
   ]
  },
  {
   "cell_type": "markdown",
   "metadata": {},
   "source": [
    "### Python packages used in this notebook, including CmdStanPy"
   ]
  },
  {
   "cell_type": "code",
   "execution_count": 1,
   "metadata": {},
   "outputs": [],
   "source": [
    "import json\n",
    "\n",
    "import matplotlib.pyplot as plt\n",
    "import matplotlib.image as mpimg\n",
    "from matplotlib import rcParams\n",
    "%matplotlib inline\n",
    "\n",
    "import numpy as np\n",
    "import pandas as pd\n",
    "\n",
    "from cmdstanpy import cmdstan_path, CmdStanModel, install_cmdstan\n",
    "# install_cmdstan()  # as needed - will install latest release (as needed)"
   ]
  },
  {
   "cell_type": "markdown",
   "metadata": {},
   "source": [
    "### Areal data:  the counties in Scotland, circa 1980"
   ]
  },
  {
   "cell_type": "markdown",
   "metadata": {},
   "source": [
    "The canonical dataset used to test and compare different parameterizations of ICAR models is a study on the incidence of lip cancer in Scotland in the 1970s and 1980s.  The data, including the names and coordinates for the counties of Scotland are available from R package [SpatialEpi](https://cran.r-project.org/web/packages/SpatialEpi/SpatialEpi.pdf), dataset `scotland`.\n",
    "\n",
    "3 of these counties are islands:  the Outer Hebrides (western.isles), Shetland, and Orkney.  In the canonical datasets, these islands are conntected to the mainland, so that the adjacency graph consists of a single, fully connected component.  However, different maps are possible:  a map with 4 components, the mainland and the 3 islands; or a map with 3 components:  the mainland, a component consisting of Shetland and Orkney, and a singleton consisting of the Hebrides. The following plots demonstrate the differences:"
   ]
  },
  {
   "cell_type": "code",
   "execution_count": 2,
   "metadata": {},
   "outputs": [
    {
     "data": {
      "image/png": "[encoded data removed]",
      "text/plain": [
       "<Figure size 792x576 with 3 Axes>"
      ]
     },
     "metadata": {
      "needs_background": "light"
     },
     "output_type": "display_data"
    }
   ],
   "source": [
    "# figure size in inches optional\n",
    "rcParams['figure.figsize'] = 11 ,8\n",
    "img_A = mpimg.imread('scot_connected.png')\n",
    "img_B = mpimg.imread('scot_3_comp.png')\n",
    "img_C = mpimg.imread('scot_islands.png')\n",
    "# display images\n",
    "fig, ax = plt.subplots(1,3)\n",
    "ax[0].imshow(img_A);\n",
    "ax[1].imshow(img_B);\n",
    "ax[2].imshow(img_C);"
   ]
  },
  {
   "cell_type": "markdown",
   "metadata": {},
   "source": [
    "The graph nodes which have different amounds of connectivity are:  1: \"sky-lochalsh\" , 3: \"caithnes\", 5: \"ross-cromarty\", 6: \"shetland\", 8: \"orkney\", 9: \"moray\", 11: \"western.isles\", 12: \"sutherland\"."
   ]
  },
  {
   "cell_type": "markdown",
   "metadata": {},
   "source": [
    "### Data prep:  from spatial polygon to 2D array of edges\n",
    "\n",
    "In the Stan implementation of the ICAR model, the edgelist is a 2D array of size 2 $\\times$ J where J is the number of edges in the graph.  Each column entry in this array represents one undirected edge in the graph, where for each edge j, entries [j,1] and [j,2] index the nodes connected by that edge.  Treating these are parallel arrays and using Stan's vectorized operations provides a transparent implementation of the pairwise difference formula used to compute the ICAR component.\n",
    "\n",
    "The common format for the spatial structure of an areal dataset is as a set of shapefiles.  The areal regions are described by a set of spatial polygons, i.e., a description of the shape of each region in terms of its lat,lon coordinates.  The R package [spdep](https://r-spatial.github.io/spdep/index.html) extracts the adjacency relations as a `nb` object.\n",
    "We have written a set of helper functions which take the `nb` objects for each graph into the set of data structures needed by the Stan models, these are in file `bym2_helpers.R`.  The helper function `nb_to_edge_array` takes the `nb` object and returns the 2 $\\times$ J edge array; the helper function `scaling_factor` uses the edge array to compute the geometric mean of the corresponding adjacency matrix.\n",
    "\n",
    "\n",
    "The `scotland` dataset contains the shapefiles for the counties in Scotland.  The fully connected graph corresponds to the data as distributed.  By editing the `nb` objects, we have created the alternative maps above.\n",
    "The three versions of the Scotland spatial structure are in files `scotland_nbs.data.R`, `scotland_3_comp_nbs.data.R`, and `scotland_islands_nbs.data.R`.\n",
    "The file `munge_scotland.R` munges the data, and it has been saved as JSON data files."
   ]
  },
  {
   "cell_type": "markdown",
   "metadata": {},
   "source": [
    "### Regression data:  the Scotland cancer dataset\n",
    "\n",
    "The cancer study data is:\n",
    "\n",
    "- `y`: observed outcome - number of cases of lip cancer\n",
    "- `x`: single predictor - percent of population working in agriculture, forestry, or fisheries.\n",
    "- `E`: population\n",
    "    \n",
    "This dataset is available via several different R packages; often `x` is called `AFF`; sometime it is given as a percentage, i.e., scaled from 1 to 100; sometimes as a proportion, scaled from 0 to 1.  The version of this dataset distributed as a BUGS example scales the percentage by 1/10, as does the INLA model.  In order to compare the Stan results with INLA et al, in this dataset, `x`, the percenatage population, is also scaled by 1/10."
   ]
  },
  {
   "cell_type": "markdown",
   "metadata": {},
   "source": [
    "### Fitting the BYM2_islands model to Scotland map as mainland component plus islands"
   ]
  },
  {
   "cell_type": "markdown",
   "metadata": {},
   "source": [
    "For the Scotland map with 3 island (singleton) components, in file `scotland_islands_nbs.data.R`, we use function index_components and write_json produce the input data file `scotland_islands.data.json`.   This map has the same nodes set as in the `scotland` dataset, but the neighbors object (file `scotland_nbs.data.R`) has been edited to remove all edges between islands and the mainland or each other."
   ]
  },
  {
   "cell_type": "code",
   "execution_count": 3,
   "metadata": {},
   "outputs": [
    {
     "name": "stdout",
     "output_type": "stream",
     "text": [
      "num nodes: 56, num edges: 126\n"
     ]
    }
   ],
   "source": [
    "with open('scotland_islands.data.json') as fd:\n",
    "    islands_data = json.load(fd)\n",
    "\n",
    "print('num nodes: {}, num edges: {}'.format(islands_data['I'], islands_data['J']))"
   ]
  },
  {
   "cell_type": "markdown",
   "metadata": {},
   "source": [
    "The `index_components` function creates the per-component node and edge index arrays, and computes the vector of scaling factors `tau`:"
   ]
  },
  {
   "cell_type": "code",
   "execution_count": 4,
   "metadata": {},
   "outputs": [
    {
     "name": "stdout",
     "output_type": "stream",
     "text": [
      "num components: 4\n",
      "scaling factors: [0.4504, 0.25, 0.25, 0.25]\n",
      "nodes per component: [53, 1, 1, 1]\n",
      "node indices: [[1, 2, 3, 4, 5, 7, 9, 10, 12, 13, 14, 15, 16, 17, 18, 19, 20, 21, 22, 23, 24, 25, 26, 27, 28, 29, 30, 31, 32, 33, 34, 35, 36, 37, 38, 39, 40, 41, 42, 43, 44, 45, 46, 47, 48, 49, 50, 51, 52, 53, 54, 55, 56, 0, 0, 0], [6, 0, 0, 0, 0, 0, 0, 0, 0, 0, 0, 0, 0, 0, 0, 0, 0, 0, 0, 0, 0, 0, 0, 0, 0, 0, 0, 0, 0, 0, 0, 0, 0, 0, 0, 0, 0, 0, 0, 0, 0, 0, 0, 0, 0, 0, 0, 0, 0, 0, 0, 0, 0, 0, 0, 0], [8, 0, 0, 0, 0, 0, 0, 0, 0, 0, 0, 0, 0, 0, 0, 0, 0, 0, 0, 0, 0, 0, 0, 0, 0, 0, 0, 0, 0, 0, 0, 0, 0, 0, 0, 0, 0, 0, 0, 0, 0, 0, 0, 0, 0, 0, 0, 0, 0, 0, 0, 0, 0, 0, 0, 0], [11, 0, 0, 0, 0, 0, 0, 0, 0, 0, 0, 0, 0, 0, 0, 0, 0, 0, 0, 0, 0, 0, 0, 0, 0, 0, 0, 0, 0, 0, 0, 0, 0, 0, 0, 0, 0, 0, 0, 0, 0, 0, 0, 0, 0, 0, 0, 0, 0, 0, 0, 0, 0, 0, 0, 0]]\n"
     ]
    }
   ],
   "source": [
    "print('num components: {}\\nscaling factors: {}\\nnodes per component: {}\\nnode indices: {}'.format(\n",
    "    islands_data['K'], islands_data['tau'], islands_data['K_node_cts'], islands_data['K_node_idxs']))"
   ]
  },
  {
   "cell_type": "markdown",
   "metadata": {},
   "source": [
    "We use CmdStanPy to compile and fit the model using "
   ]
  },
  {
   "cell_type": "code",
   "execution_count": 5,
   "metadata": {},
   "outputs": [
    {
     "name": "stderr",
     "output_type": "stream",
     "text": [
      "INFO:cmdstanpy:found newer exe file, not recompiling\n",
      "INFO:cmdstanpy:compiled model file: /Users/mitzi/github/stan-dev/example-models/knitr/car-iar-poisson/update_2021_02/bym2_islands\n"
     ]
    }
   ],
   "source": [
    "from cmdstanpy import cmdstan_path, CmdStanModel\n",
    "bym2_islands_model = CmdStanModel(stan_file='bym2_islands.stan')"
   ]
  },
  {
   "cell_type": "code",
   "execution_count": 6,
   "metadata": {},
   "outputs": [
    {
     "name": "stdout",
     "output_type": "stream",
     "text": [
      "functions {\n",
      "  /**\n",
      "   * Return the log probability density of the specified vector of\n",
      "   * coefficients under the ICAR model with unit variance, where\n",
      "   * adjacency is determined by the adjacency array and the spatial\n",
      "   * structure is a disconnected graph which has at least one\n",
      "   * connected component.  Each connected component has a\n",
      "   * soft sum-to-zero constraint.   Singleton nodes have\n",
      "   * distribution normal(0, 1/sqrt(K))\n",
      "   *\n",
      "   * The spatial structure is described by a 2-D adjacency array\n",
      "   * over the all edges in the areal map and a arrays of the\n",
      "   * indices of per-component nodes and edges which are used as\n",
      "   * masks into phi and the adjacency matrix.   Because the Stan\n",
      "   * language lacks ragged arrays, these are all square matrices,\n",
      "   * padded out with zeros; additional vectors record the number\n",
      "   * of nodes and edges in each component.\n",
      "   *\n",
      "   * @param phi vector of varying effects\n",
      "   * @param adjacency parallel arrays of indexes of adjacent elements of phi\n",
      "   * @param node_cts array of sizes of per-component nodes\n",
      "   * @param edge_cts array of sizes of per-component edges\n",
      "   * @param node_idxs array of arrays of per_component node indexes.\n",
      "   * @param edge_idxs array of arrays of per_component edge indexes.\n",
      "   *\n",
      "   * @return ICAR log probability density\n",
      "   *\n",
      "   * @reject if the the adjacency matrix does not have two rows\n",
      "   * @reject if size mismatch between indexing arrays\n",
      "   * @reject if size mismatch between phi and node indexes columns.\n",
      "   */\n",
      "  real standard_icar_disconnected_lpdf(vector phi,\n",
      "\t\t\t\t       int[ , ] adjacency,\n",
      "\t\t\t\t       int[ ] node_cts,\n",
      "\t\t\t\t       int[ ] edge_cts,\n",
      "\t\t\t\t       int[ , ] node_idxs,\n",
      "\t\t\t\t       int[ , ] edge_idxs) {\n",
      "    int num_nodes = size(phi);\n",
      "    int num_edges = dims(adjacency)[2];\n",
      "    int num_comps = size(edge_cts);\n",
      "    if (size(adjacency) != 2)\n",
      "      reject(\"require 2 rows for adjacency array;\",\n",
      "             \" found rows = \", size(adjacency));\n",
      "    if (!(num_nodes == dims(node_idxs)[2]\n",
      "\t  && size(node_cts) == size(edge_cts)\n",
      "\t  && size(node_cts) == size(node_idxs)\n",
      "\t  && size(edge_cts) == size(edge_idxs)))\n",
      "      reject(\"arguments have size mismatch, expecting \",\n",
      "\t     num_comps,\n",
      "\t     \" rows for node_cts edge_cts, node_idxs, and edge_idxs,\",\n",
      "\t     num_nodes,\n",
      "\t     \" elements in phi and columns of node_idxs, and \",\n",
      "\t     num_edges,\n",
      "\t     \" columns of edge_idxs.\");\n",
      "\n",
      "    real total = 0;\n",
      "    for (n in 1:num_comps) {\n",
      "      if (node_cts[n] > 1)\n",
      "\ttotal += -0.5 * dot_self(phi[adjacency[1, edge_idxs[n, 1:edge_cts[n]]]] -\n",
      "\t\t\t\t phi[adjacency[2, edge_idxs[n, 1:edge_cts[n]]]])\n",
      "\t  + normal_lpdf(sum(phi[node_idxs[n, 1:node_cts[n]]]) | 0, 0.001 * node_cts[n]);\n",
      "      else\n",
      "\ttotal += normal_lpdf(phi[node_idxs[n, 1]] | 0, 1);\n",
      "    }\n",
      "    return total;\n",
      "  }\n",
      "}\n",
      "data {\n",
      "  // spatial structure\n",
      "  int<lower = 0> I;  // number of nodes\n",
      "  int<lower = 0> J;  // number of edges\n",
      "  int<lower = 1, upper = I> edges[2, J];  // node[1, j] adjacent to node[2, j]\n",
      "\n",
      "  int<lower=0, upper=I> K;  // number of components in spatial graph\n",
      "  int<lower=0, upper=I> K_node_cts[K];   // per-component nodes\n",
      "  int<lower=0, upper=J> K_edge_cts[K];   // per-component edges\n",
      "  int<lower=0, upper=I> K_node_idxs[K, I];  // rows contain per-component node indexes\n",
      "  int<lower=0, upper=J> K_edge_idxs[K, J];  // rows contain per-component edge indexes\n",
      "\n",
      "  vector[K] tau; // scaling factor\n",
      "\n",
      "  int<lower=0> y[I];              // count outcomes\n",
      "  vector<lower=0>[I] E;           // exposure\n",
      "  vector[I] x;                 // predictor\n",
      "}\n",
      "transformed data {\n",
      "  vector[I] log_E = log(E);\n",
      "}\n",
      "parameters {\n",
      "  real alpha;            // intercept\n",
      "  real beta;       // covariates\n",
      "\n",
      "  // spatial effects\n",
      "  real<lower=0, upper=1> rho; // proportion unstructured vs. spatially structured variance\n",
      "  real<lower = 0> sigma;  // scale of spatial effects\n",
      "  vector[I] theta;  // standardized heterogeneous spatial effects\n",
      "  vector[I] phi;  // standardized spatially smoothed spatial effects\n",
      "}\n",
      "transformed parameters {\n",
      "  vector[I] gamma;\n",
      "  for (k in 1:K)\n",
      "    gamma[K_node_idxs[k, 1:K_node_cts[k]]] = \n",
      "      (sqrt(1 - rho) * theta[K_node_idxs[k, 1:K_node_cts[k]]]\n",
      "       +\n",
      "       sqrt(rho / tau[k]) * phi[K_node_idxs[k, 1:K_node_cts[k]]])\n",
      "      * sigma;\n",
      "}\n",
      "model {\n",
      "  y ~ poisson_log(log_E + alpha + x * beta + gamma * sigma);  // co-variates\n",
      "\n",
      "  alpha ~ normal(0, 1);\n",
      "  beta ~ normal(0, 1);\n",
      "\n",
      "  // spatial hyperpriors and priors\n",
      "  sigma ~ normal(0, 1);\n",
      "  rho ~ beta(0.5, 0.5);\n",
      "  theta ~ normal(0, 1);\n",
      "  phi ~ standard_icar_disconnected(edges, K_node_cts, K_edge_cts, K_node_idxs, K_edge_idxs);\n",
      "}\n",
      "generated quantities {\n",
      "  // posterior predictive checks\n",
      "  vector[I] eta = log_E + alpha + x * beta + gamma * sigma;\n",
      "  vector[I] y_prime = exp(eta);\n",
      "  //   int y_rep[I,10];\n",
      "  //   for (j in 1:10) {\n",
      "  //     if (max(eta) > 20) {\n",
      "  //       // avoid overflow in poisson_log_rng\n",
      "  //       print(\"max eta too big: \", max(eta));\n",
      "  //       for (i in 1:I)\n",
      "  //   \ty_rep[i,j] = -1;\n",
      "  //     } else {\n",
      "  //       for (i in 1:I)\n",
      "  //         y_rep[i,j] = poisson_log_rng(eta[i]);\n",
      "  //     }\n",
      "  //   }\n",
      "  real logit_rho = log(rho / (1.0 - rho));\n",
      "}\n",
      "\n"
     ]
    }
   ],
   "source": [
    "print(bym2_islands_model.code())"
   ]
  },
  {
   "cell_type": "markdown",
   "metadata": {},
   "source": [
    "We fit the model using the data dictionary `islands_data`, alternatively, one can specify file `scotland_islands.data.json`.  For reproducibility, we specify the seed supplied to the Stan pseudo-random number generator used by the sampler."
   ]
  },
  {
   "cell_type": "code",
   "execution_count": 7,
   "metadata": {},
   "outputs": [
    {
     "name": "stderr",
     "output_type": "stream",
     "text": [
      "INFO:cmdstanpy:start chain 1\n",
      "INFO:cmdstanpy:start chain 2\n",
      "INFO:cmdstanpy:start chain 3\n",
      "INFO:cmdstanpy:start chain 4\n",
      "INFO:cmdstanpy:finish chain 3\n",
      "INFO:cmdstanpy:finish chain 2\n",
      "INFO:cmdstanpy:finish chain 1\n",
      "INFO:cmdstanpy:finish chain 4\n"
     ]
    }
   ],
   "source": [
    "bym2_islands_fit = bym2_islands_model.sample(data=islands_data, seed=12345)"
   ]
  },
  {
   "cell_type": "markdown",
   "metadata": {},
   "source": [
    "The CmdStanMCMC method `summary` wraps the CmdStan [`stansummary`](https://mc-stan.org/docs/cmdstan-guide/stansummary.html) utility; it returns a pandas DataFrame object, one row per summary output row for the joint log probability density `lp__` and for the values of all variables in the Stan program."
   ]
  },
  {
   "cell_type": "code",
   "execution_count": 8,
   "metadata": {},
   "outputs": [
    {
     "data": {
      "text/html": [
       "<div>\n",
       "<style scoped>\n",
       "    .dataframe tbody tr th:only-of-type {\n",
       "        vertical-align: middle;\n",
       "    }\n",
       "\n",
       "    .dataframe tbody tr th {\n",
       "        vertical-align: top;\n",
       "    }\n",
       "\n",
       "    .dataframe thead th {\n",
       "        text-align: right;\n",
       "    }\n",
       "</style>\n",
       "<table border=\"1\" class=\"dataframe\">\n",
       "  <thead>\n",
       "    <tr style=\"text-align: right;\">\n",
       "      <th></th>\n",
       "      <th>Mean</th>\n",
       "      <th>MCSE</th>\n",
       "      <th>StdDev</th>\n",
       "      <th>5%</th>\n",
       "      <th>50%</th>\n",
       "      <th>95%</th>\n",
       "      <th>N_Eff</th>\n",
       "      <th>N_Eff/s</th>\n",
       "      <th>R_hat</th>\n",
       "    </tr>\n",
       "    <tr>\n",
       "      <th>name</th>\n",
       "      <th></th>\n",
       "      <th></th>\n",
       "      <th></th>\n",
       "      <th></th>\n",
       "      <th></th>\n",
       "      <th></th>\n",
       "      <th></th>\n",
       "      <th></th>\n",
       "      <th></th>\n",
       "    </tr>\n",
       "  </thead>\n",
       "  <tbody>\n",
       "    <tr>\n",
       "      <th>lp__</th>\n",
       "      <td>750.00</td>\n",
       "      <td>0.2800</td>\n",
       "      <td>9.000</td>\n",
       "      <td>730.00</td>\n",
       "      <td>750.00</td>\n",
       "      <td>760.000</td>\n",
       "      <td>1000.0</td>\n",
       "      <td>70.00</td>\n",
       "      <td>1.00</td>\n",
       "    </tr>\n",
       "    <tr>\n",
       "      <th>alpha</th>\n",
       "      <td>-0.29</td>\n",
       "      <td>0.0027</td>\n",
       "      <td>0.130</td>\n",
       "      <td>-0.50</td>\n",
       "      <td>-0.29</td>\n",
       "      <td>-0.078</td>\n",
       "      <td>2200.0</td>\n",
       "      <td>150.00</td>\n",
       "      <td>1.00</td>\n",
       "    </tr>\n",
       "    <tr>\n",
       "      <th>beta</th>\n",
       "      <td>0.41</td>\n",
       "      <td>0.0031</td>\n",
       "      <td>0.140</td>\n",
       "      <td>0.18</td>\n",
       "      <td>0.41</td>\n",
       "      <td>0.630</td>\n",
       "      <td>1900.0</td>\n",
       "      <td>130.00</td>\n",
       "      <td>1.00</td>\n",
       "    </tr>\n",
       "    <tr>\n",
       "      <th>rho</th>\n",
       "      <td>0.85</td>\n",
       "      <td>0.0068</td>\n",
       "      <td>0.160</td>\n",
       "      <td>0.50</td>\n",
       "      <td>0.90</td>\n",
       "      <td>1.000</td>\n",
       "      <td>570.0</td>\n",
       "      <td>40.00</td>\n",
       "      <td>1.00</td>\n",
       "    </tr>\n",
       "    <tr>\n",
       "      <th>sigma</th>\n",
       "      <td>0.70</td>\n",
       "      <td>0.0016</td>\n",
       "      <td>0.056</td>\n",
       "      <td>0.61</td>\n",
       "      <td>0.70</td>\n",
       "      <td>0.800</td>\n",
       "      <td>1300.0</td>\n",
       "      <td>89.00</td>\n",
       "      <td>1.00</td>\n",
       "    </tr>\n",
       "    <tr>\n",
       "      <th>...</th>\n",
       "      <td>...</td>\n",
       "      <td>...</td>\n",
       "      <td>...</td>\n",
       "      <td>...</td>\n",
       "      <td>...</td>\n",
       "      <td>...</td>\n",
       "      <td>...</td>\n",
       "      <td>...</td>\n",
       "      <td>...</td>\n",
       "    </tr>\n",
       "    <tr>\n",
       "      <th>y_prime[53]</th>\n",
       "      <td>2.30</td>\n",
       "      <td>0.0090</td>\n",
       "      <td>0.820</td>\n",
       "      <td>1.20</td>\n",
       "      <td>2.20</td>\n",
       "      <td>3.800</td>\n",
       "      <td>8326.0</td>\n",
       "      <td>578.00</td>\n",
       "      <td>1.00</td>\n",
       "    </tr>\n",
       "    <tr>\n",
       "      <th>y_prime[54]</th>\n",
       "      <td>2.80</td>\n",
       "      <td>0.0120</td>\n",
       "      <td>0.960</td>\n",
       "      <td>1.50</td>\n",
       "      <td>2.70</td>\n",
       "      <td>4.600</td>\n",
       "      <td>6767.0</td>\n",
       "      <td>469.00</td>\n",
       "      <td>1.00</td>\n",
       "    </tr>\n",
       "    <tr>\n",
       "      <th>y_prime[55]</th>\n",
       "      <td>3.60</td>\n",
       "      <td>0.0170</td>\n",
       "      <td>1.200</td>\n",
       "      <td>1.80</td>\n",
       "      <td>3.50</td>\n",
       "      <td>5.800</td>\n",
       "      <td>4996.0</td>\n",
       "      <td>347.00</td>\n",
       "      <td>1.00</td>\n",
       "    </tr>\n",
       "    <tr>\n",
       "      <th>y_prime[56]</th>\n",
       "      <td>1.40</td>\n",
       "      <td>0.0062</td>\n",
       "      <td>0.480</td>\n",
       "      <td>0.74</td>\n",
       "      <td>1.30</td>\n",
       "      <td>2.300</td>\n",
       "      <td>6065.0</td>\n",
       "      <td>421.00</td>\n",
       "      <td>1.00</td>\n",
       "    </tr>\n",
       "    <tr>\n",
       "      <th>logit_rho</th>\n",
       "      <td>2.71</td>\n",
       "      <td>0.0900</td>\n",
       "      <td>2.210</td>\n",
       "      <td>0.01</td>\n",
       "      <td>2.25</td>\n",
       "      <td>6.990</td>\n",
       "      <td>657.8</td>\n",
       "      <td>45.63</td>\n",
       "      <td>1.01</td>\n",
       "    </tr>\n",
       "  </tbody>\n",
       "</table>\n",
       "<p>286 rows × 9 columns</p>\n",
       "</div>"
      ],
      "text/plain": [
       "               Mean    MCSE  StdDev      5%     50%      95%   N_Eff  N_Eff/s  \\\n",
       "name                                                                            \n",
       "lp__         750.00  0.2800   9.000  730.00  750.00  760.000  1000.0    70.00   \n",
       "alpha         -0.29  0.0027   0.130   -0.50   -0.29   -0.078  2200.0   150.00   \n",
       "beta           0.41  0.0031   0.140    0.18    0.41    0.630  1900.0   130.00   \n",
       "rho            0.85  0.0068   0.160    0.50    0.90    1.000   570.0    40.00   \n",
       "sigma          0.70  0.0016   0.056    0.61    0.70    0.800  1300.0    89.00   \n",
       "...             ...     ...     ...     ...     ...      ...     ...      ...   \n",
       "y_prime[53]    2.30  0.0090   0.820    1.20    2.20    3.800  8326.0   578.00   \n",
       "y_prime[54]    2.80  0.0120   0.960    1.50    2.70    4.600  6767.0   469.00   \n",
       "y_prime[55]    3.60  0.0170   1.200    1.80    3.50    5.800  4996.0   347.00   \n",
       "y_prime[56]    1.40  0.0062   0.480    0.74    1.30    2.300  6065.0   421.00   \n",
       "logit_rho      2.71  0.0900   2.210    0.01    2.25    6.990   657.8    45.63   \n",
       "\n",
       "             R_hat  \n",
       "name                \n",
       "lp__          1.00  \n",
       "alpha         1.00  \n",
       "beta          1.00  \n",
       "rho           1.00  \n",
       "sigma         1.00  \n",
       "...            ...  \n",
       "y_prime[53]   1.00  \n",
       "y_prime[54]   1.00  \n",
       "y_prime[55]   1.00  \n",
       "y_prime[56]   1.00  \n",
       "logit_rho     1.01  \n",
       "\n",
       "[286 rows x 9 columns]"
      ]
     },
     "execution_count": 8,
     "metadata": {},
     "output_type": "execute_result"
    }
   ],
   "source": [
    "islands_summary = bym2_islands_fit.summary()\n",
    "islands_summary"
   ]
  },
  {
   "cell_type": "markdown",
   "metadata": {},
   "source": [
    "The R_hat and N_Eff (number of effective samples) in the summary report indicate that the model has fit the data.  To further check the fit, we run the `diagnose` method, which wraps CmdStan's [`diagnose`](https://mc-stan.org/docs/cmdstan-guide/diagnose.html) utility."
   ]
  },
  {
   "cell_type": "code",
   "execution_count": 9,
   "metadata": {},
   "outputs": [
    {
     "name": "stderr",
     "output_type": "stream",
     "text": [
      "INFO:cmdstanpy:Processing csv files: /var/folders/db/4jnggnf549s42z50bd61jskm0000gq/T/tmpqbvykf4y/bym2_islands-202102261942-1-jerlq96w.csv, /var/folders/db/4jnggnf549s42z50bd61jskm0000gq/T/tmpqbvykf4y/bym2_islands-202102261942-2-ln_lz2hh.csv, /var/folders/db/4jnggnf549s42z50bd61jskm0000gq/T/tmpqbvykf4y/bym2_islands-202102261942-3-t0g48k_u.csv, /var/folders/db/4jnggnf549s42z50bd61jskm0000gq/T/tmpqbvykf4y/bym2_islands-202102261942-4-gwm08ytv.csv\n",
      "\n",
      "Checking sampler transitions treedepth.\n",
      "Treedepth satisfactory for all transitions.\n",
      "\n",
      "Checking sampler transitions for divergences.\n",
      "No divergent transitions found.\n",
      "\n",
      "Checking E-BFMI - sampler transitions HMC potential energy.\n",
      "E-BFMI satisfactory for all transitions.\n",
      "\n",
      "Effective sample size satisfactory.\n",
      "\n",
      "Split R-hat values satisfactory all parameters.\n",
      "\n",
      "Processing complete, no problems detected.\n"
     ]
    },
    {
     "data": {
      "text/plain": [
       "'Processing csv files: /var/folders/db/4jnggnf549s42z50bd61jskm0000gq/T/tmpqbvykf4y/bym2_islands-202102261942-1-jerlq96w.csv, /var/folders/db/4jnggnf549s42z50bd61jskm0000gq/T/tmpqbvykf4y/bym2_islands-202102261942-2-ln_lz2hh.csv, /var/folders/db/4jnggnf549s42z50bd61jskm0000gq/T/tmpqbvykf4y/bym2_islands-202102261942-3-t0g48k_u.csv, /var/folders/db/4jnggnf549s42z50bd61jskm0000gq/T/tmpqbvykf4y/bym2_islands-202102261942-4-gwm08ytv.csv\\n\\nChecking sampler transitions treedepth.\\nTreedepth satisfactory for all transitions.\\n\\nChecking sampler transitions for divergences.\\nNo divergent transitions found.\\n\\nChecking E-BFMI - sampler transitions HMC potential energy.\\nE-BFMI satisfactory for all transitions.\\n\\nEffective sample size satisfactory.\\n\\nSplit R-hat values satisfactory all parameters.\\n\\nProcessing complete, no problems detected.'"
      ]
     },
     "execution_count": 9,
     "metadata": {},
     "output_type": "execute_result"
    }
   ],
   "source": [
    "bym2_islands_fit.diagnose()"
   ]
  },
  {
   "cell_type": "markdown",
   "metadata": {},
   "source": [
    "The diagnose command detects _potential_ problems by examining the set of sampler diagnostic variables; these are the initial columns of the Stan CSV output file, which have column labels which end in `__`.  For example, to further check the treedepth, which is an integer output between 1 and sampler configuration argument `max_treedepth`, default 10, we can access this column from the output and do a quick summary of the per-draw treedepth counts:"
   ]
  },
  {
   "cell_type": "code",
   "execution_count": 10,
   "metadata": {},
   "outputs": [
    {
     "name": "stdout",
     "output_type": "stream",
     "text": [
      "7 29\n",
      "8 3971\n"
     ]
    }
   ],
   "source": [
    "bym2_islands_draws = bym2_islands_fit.draws(concat_chains=True)\n",
    "treedepth_idx = bym2_islands_fit.column_names.index('treedepth__')\n",
    "treedepths = np.bincount(bym2_islands_draws[:, treedepth_idx].astype('int'))\n",
    "for idx, val in enumerate(treedepths):\n",
    "    if val > 0:\n",
    "        print(idx, val)"
   ]
  },
  {
   "cell_type": "markdown",
   "metadata": {},
   "source": [
    "To get the summary statistics for a Stan program variable across all chains, we can access individual rows of the pandas DataFrame object using [`iloc`](https://pandas.pydata.org/pandas-docs/stable/reference/api/pandas.DataFrame.iloc.html).  Here we examine the estimates for the quantities `theta` and `phi` for the first 12 nodes in the graph:"
   ]
  },
  {
   "cell_type": "code",
   "execution_count": 11,
   "metadata": {},
   "outputs": [
    {
     "name": "stdout",
     "output_type": "stream",
     "text": [
      "         Mean    MCSE  StdDev    5%   50%  95%   N_Eff  N_Eff/s  R_hat\n",
      "name                                                                  \n",
      "phi[1]   1.70  0.0085    0.49  0.87  1.60  2.5  3341.0    232.0    1.0\n",
      "phi[2]   1.60  0.0098    0.44  0.93  1.60  2.3  1973.0    137.0    1.0\n",
      "phi[3]   1.60  0.0120    0.58  0.78  1.60  2.7  2161.0    150.0    1.0\n",
      "phi[4]   0.41  0.0110    0.50 -0.42  0.43  1.2  2216.0    154.0    1.0\n",
      "phi[5]   1.50  0.0093    0.43  0.82  1.50  2.2  2132.0    148.0    1.0\n",
      "phi[6]   0.42  0.0071    0.48 -0.42  0.44  1.2  4610.0    320.0    1.0\n",
      "phi[7]   1.30  0.0083    0.36  0.76  1.30  1.9  1937.0    134.0    1.0\n",
      "phi[8]   0.94  0.0058    0.49  0.14  0.95  1.7  6954.0    482.0    1.0\n",
      "phi[9]   0.98  0.0060    0.41  0.31  0.98  1.7  4756.0    330.0    1.0\n",
      "phi[10]  1.00  0.0081    0.39  0.40  1.00  1.7  2291.0    159.0    1.0\n",
      "phi[11]  1.00  0.0071    0.41  0.37  1.00  1.7  3372.0    234.0    1.0\n",
      "            Mean   MCSE  StdDev   5%    50%  95%   N_Eff  N_Eff/s  R_hat\n",
      "name                                                                    \n",
      "theta[1]   0.330  0.013    0.96 -1.3  0.330  1.9  5109.0    354.0    1.0\n",
      "theta[2]   0.180  0.013    0.98 -1.4  0.190  1.8  5619.0    390.0    1.0\n",
      "theta[3]   0.089  0.011    0.94 -1.5  0.089  1.6  7124.0    494.0    1.0\n",
      "theta[4]   0.250  0.013    0.97 -1.4  0.260  1.8  5230.0    363.0    1.0\n",
      "theta[5]   0.200  0.012    0.94 -1.4  0.210  1.7  5977.0    415.0    1.0\n",
      "theta[6]   0.074  0.011    0.99 -1.5  0.055  1.7  8088.0    561.0    1.0\n",
      "theta[7]   0.320  0.012    0.92 -1.3  0.350  1.8  5733.0    398.0    1.0\n",
      "theta[8]   0.180  0.012    0.98 -1.4  0.190  1.8  6420.0    445.0    1.0\n",
      "theta[9]   0.280  0.011    0.94 -1.3  0.290  1.8  7123.0    494.0    1.0\n",
      "theta[10]  0.110  0.012    0.94 -1.4  0.120  1.6  6303.0    437.0    1.0\n",
      "theta[11]  0.200  0.013    1.00 -1.5  0.210  1.8  6055.0    420.0    1.0\n"
     ]
    }
   ],
   "source": [
    "names = list(islands_summary.index)\n",
    "theta_rows = [names.index(name) for name in names if name.startswith('theta[')]\n",
    "phi_rows = [names.index(name) for name in names if name.startswith('phi[')]\n",
    "print('{}\\n{}'.format(islands_summary.iloc[phi_rows,:][0:11], islands_summary.iloc[theta_rows,:][0:11]))"
   ]
  },
  {
   "cell_type": "markdown",
   "metadata": {},
   "source": [
    "## Fit connected graph on Scotland Lip cancer dataset with BYM2 model implemented in Stan."
   ]
  },
  {
   "cell_type": "code",
   "execution_count": 12,
   "metadata": {},
   "outputs": [],
   "source": [
    "from cmdstanpy import cmdstan_path, CmdStanModel, install_cmdstan\n",
    "# install_cmdstan()  # as needed - will install latest release (as needed)"
   ]
  },
  {
   "cell_type": "markdown",
   "metadata": {},
   "source": [
    "The dataset `scot_connected.data.json` contains the cancer dataset together with the spatial structure.\n",
    "The spatial structure is comprised of:\n",
    "\n",
    "- I: `int<lower = 0> I;  // number of nodes`\n",
    "- J: `int<lower = 0> J;  // number of edges`\n",
    "- edges: `int<lower = 1, upper = I> edges[2, J];  // node[1, j] adjacent to node[2, j]`\n",
    "- tau: `real tau; // scaling factor`"
   ]
  },
  {
   "cell_type": "code",
   "execution_count": 13,
   "metadata": {
    "scrolled": true
   },
   "outputs": [
    {
     "name": "stderr",
     "output_type": "stream",
     "text": [
      "INFO:cmdstanpy:found newer exe file, not recompiling\n",
      "INFO:cmdstanpy:compiled model file: /Users/mitzi/github/stan-dev/example-models/knitr/car-iar-poisson/update_2021_02/bym2\n",
      "INFO:cmdstanpy:start chain 1\n",
      "INFO:cmdstanpy:start chain 2\n",
      "INFO:cmdstanpy:start chain 3\n",
      "INFO:cmdstanpy:start chain 4\n",
      "INFO:cmdstanpy:finish chain 1\n",
      "INFO:cmdstanpy:finish chain 3\n",
      "INFO:cmdstanpy:finish chain 2\n",
      "INFO:cmdstanpy:finish chain 4\n"
     ]
    }
   ],
   "source": [
    "with open('scotland_connected.data.json') as fd:\n",
    "    connected_data = json.load(fd)\n",
    "\n",
    "bym2_model = CmdStanModel(stan_file='bym2.stan')\n",
    "bym2_fit = bym2_model.sample(data=connected_data, seed=12345)"
   ]
  },
  {
   "cell_type": "code",
   "execution_count": 14,
   "metadata": {},
   "outputs": [
    {
     "data": {
      "text/html": [
       "<div>\n",
       "<style scoped>\n",
       "    .dataframe tbody tr th:only-of-type {\n",
       "        vertical-align: middle;\n",
       "    }\n",
       "\n",
       "    .dataframe tbody tr th {\n",
       "        vertical-align: top;\n",
       "    }\n",
       "\n",
       "    .dataframe thead th {\n",
       "        text-align: right;\n",
       "    }\n",
       "</style>\n",
       "<table border=\"1\" class=\"dataframe\">\n",
       "  <thead>\n",
       "    <tr style=\"text-align: right;\">\n",
       "      <th></th>\n",
       "      <th>Mean</th>\n",
       "      <th>MCSE</th>\n",
       "      <th>StdDev</th>\n",
       "      <th>5%</th>\n",
       "      <th>50%</th>\n",
       "      <th>95%</th>\n",
       "      <th>N_Eff</th>\n",
       "      <th>N_Eff/s</th>\n",
       "      <th>R_hat</th>\n",
       "    </tr>\n",
       "    <tr>\n",
       "      <th>name</th>\n",
       "      <th></th>\n",
       "      <th></th>\n",
       "      <th></th>\n",
       "      <th></th>\n",
       "      <th></th>\n",
       "      <th></th>\n",
       "      <th></th>\n",
       "      <th></th>\n",
       "      <th></th>\n",
       "    </tr>\n",
       "  </thead>\n",
       "  <tbody>\n",
       "    <tr>\n",
       "      <th>lp__</th>\n",
       "      <td>750.00</td>\n",
       "      <td>0.2700</td>\n",
       "      <td>8.800</td>\n",
       "      <td>740.00</td>\n",
       "      <td>750.00</td>\n",
       "      <td>770.00</td>\n",
       "      <td>1100.0</td>\n",
       "      <td>97.0</td>\n",
       "      <td>1.0</td>\n",
       "    </tr>\n",
       "    <tr>\n",
       "      <th>alpha</th>\n",
       "      <td>-0.21</td>\n",
       "      <td>0.0027</td>\n",
       "      <td>0.120</td>\n",
       "      <td>-0.41</td>\n",
       "      <td>-0.21</td>\n",
       "      <td>-0.01</td>\n",
       "      <td>2100.0</td>\n",
       "      <td>190.0</td>\n",
       "      <td>1.0</td>\n",
       "    </tr>\n",
       "    <tr>\n",
       "      <th>beta</th>\n",
       "      <td>0.36</td>\n",
       "      <td>0.0029</td>\n",
       "      <td>0.130</td>\n",
       "      <td>0.15</td>\n",
       "      <td>0.36</td>\n",
       "      <td>0.57</td>\n",
       "      <td>2000.0</td>\n",
       "      <td>180.0</td>\n",
       "      <td>1.0</td>\n",
       "    </tr>\n",
       "    <tr>\n",
       "      <th>rho</th>\n",
       "      <td>0.88</td>\n",
       "      <td>0.0053</td>\n",
       "      <td>0.140</td>\n",
       "      <td>0.57</td>\n",
       "      <td>0.94</td>\n",
       "      <td>1.00</td>\n",
       "      <td>690.0</td>\n",
       "      <td>61.0</td>\n",
       "      <td>1.0</td>\n",
       "    </tr>\n",
       "    <tr>\n",
       "      <th>sigma</th>\n",
       "      <td>0.71</td>\n",
       "      <td>0.0019</td>\n",
       "      <td>0.059</td>\n",
       "      <td>0.62</td>\n",
       "      <td>0.71</td>\n",
       "      <td>0.81</td>\n",
       "      <td>930.0</td>\n",
       "      <td>83.0</td>\n",
       "      <td>1.0</td>\n",
       "    </tr>\n",
       "    <tr>\n",
       "      <th>...</th>\n",
       "      <td>...</td>\n",
       "      <td>...</td>\n",
       "      <td>...</td>\n",
       "      <td>...</td>\n",
       "      <td>...</td>\n",
       "      <td>...</td>\n",
       "      <td>...</td>\n",
       "      <td>...</td>\n",
       "      <td>...</td>\n",
       "    </tr>\n",
       "    <tr>\n",
       "      <th>y_prime[53]</th>\n",
       "      <td>2.30</td>\n",
       "      <td>0.0100</td>\n",
       "      <td>0.830</td>\n",
       "      <td>1.10</td>\n",
       "      <td>2.20</td>\n",
       "      <td>3.80</td>\n",
       "      <td>6352.0</td>\n",
       "      <td>570.0</td>\n",
       "      <td>1.0</td>\n",
       "    </tr>\n",
       "    <tr>\n",
       "      <th>y_prime[54]</th>\n",
       "      <td>2.80</td>\n",
       "      <td>0.0120</td>\n",
       "      <td>0.930</td>\n",
       "      <td>1.60</td>\n",
       "      <td>2.70</td>\n",
       "      <td>4.50</td>\n",
       "      <td>6084.0</td>\n",
       "      <td>546.0</td>\n",
       "      <td>1.0</td>\n",
       "    </tr>\n",
       "    <tr>\n",
       "      <th>y_prime[55]</th>\n",
       "      <td>3.50</td>\n",
       "      <td>0.0170</td>\n",
       "      <td>1.200</td>\n",
       "      <td>1.80</td>\n",
       "      <td>3.40</td>\n",
       "      <td>5.70</td>\n",
       "      <td>4921.0</td>\n",
       "      <td>442.0</td>\n",
       "      <td>1.0</td>\n",
       "    </tr>\n",
       "    <tr>\n",
       "      <th>y_prime[56]</th>\n",
       "      <td>1.40</td>\n",
       "      <td>0.0056</td>\n",
       "      <td>0.450</td>\n",
       "      <td>0.75</td>\n",
       "      <td>1.30</td>\n",
       "      <td>2.20</td>\n",
       "      <td>6635.0</td>\n",
       "      <td>595.0</td>\n",
       "      <td>1.0</td>\n",
       "    </tr>\n",
       "    <tr>\n",
       "      <th>logit_rho</th>\n",
       "      <td>3.20</td>\n",
       "      <td>0.1000</td>\n",
       "      <td>2.200</td>\n",
       "      <td>0.30</td>\n",
       "      <td>2.70</td>\n",
       "      <td>7.40</td>\n",
       "      <td>899.7</td>\n",
       "      <td>80.7</td>\n",
       "      <td>1.0</td>\n",
       "    </tr>\n",
       "  </tbody>\n",
       "</table>\n",
       "<p>286 rows × 9 columns</p>\n",
       "</div>"
      ],
      "text/plain": [
       "               Mean    MCSE  StdDev      5%     50%     95%   N_Eff  N_Eff/s  \\\n",
       "name                                                                           \n",
       "lp__         750.00  0.2700   8.800  740.00  750.00  770.00  1100.0     97.0   \n",
       "alpha         -0.21  0.0027   0.120   -0.41   -0.21   -0.01  2100.0    190.0   \n",
       "beta           0.36  0.0029   0.130    0.15    0.36    0.57  2000.0    180.0   \n",
       "rho            0.88  0.0053   0.140    0.57    0.94    1.00   690.0     61.0   \n",
       "sigma          0.71  0.0019   0.059    0.62    0.71    0.81   930.0     83.0   \n",
       "...             ...     ...     ...     ...     ...     ...     ...      ...   \n",
       "y_prime[53]    2.30  0.0100   0.830    1.10    2.20    3.80  6352.0    570.0   \n",
       "y_prime[54]    2.80  0.0120   0.930    1.60    2.70    4.50  6084.0    546.0   \n",
       "y_prime[55]    3.50  0.0170   1.200    1.80    3.40    5.70  4921.0    442.0   \n",
       "y_prime[56]    1.40  0.0056   0.450    0.75    1.30    2.20  6635.0    595.0   \n",
       "logit_rho      3.20  0.1000   2.200    0.30    2.70    7.40   899.7     80.7   \n",
       "\n",
       "             R_hat  \n",
       "name                \n",
       "lp__           1.0  \n",
       "alpha          1.0  \n",
       "beta           1.0  \n",
       "rho            1.0  \n",
       "sigma          1.0  \n",
       "...            ...  \n",
       "y_prime[53]    1.0  \n",
       "y_prime[54]    1.0  \n",
       "y_prime[55]    1.0  \n",
       "y_prime[56]    1.0  \n",
       "logit_rho      1.0  \n",
       "\n",
       "[286 rows x 9 columns]"
      ]
     },
     "execution_count": 14,
     "metadata": {},
     "output_type": "execute_result"
    }
   ],
   "source": [
    "connected_summary = bym2_fit.summary()\n",
    "connected_summary"
   ]
  },
  {
   "cell_type": "markdown",
   "metadata": {},
   "source": [
    "We compare the different estimates for model parameters `alpha`, `beta`, `rho`, and `sigma` for the connected and disconnected fits:"
   ]
  },
  {
   "cell_type": "code",
   "execution_count": 15,
   "metadata": {},
   "outputs": [
    {
     "name": "stdout",
     "output_type": "stream",
     "text": [
      "connected\n",
      "       Mean    MCSE  StdDev    5%   50%   95%   N_Eff  N_Eff/s  R_hat\n",
      "name                                                                 \n",
      "alpha -0.21  0.0027   0.120 -0.41 -0.21 -0.01  2100.0    190.0    1.0\n",
      "beta   0.36  0.0029   0.130  0.15  0.36  0.57  2000.0    180.0    1.0\n",
      "rho    0.88  0.0053   0.140  0.57  0.94  1.00   690.0     61.0    1.0\n",
      "sigma  0.71  0.0019   0.059  0.62  0.71  0.81   930.0     83.0    1.0\n",
      "\n",
      "islands\n",
      "       Mean    MCSE  StdDev    5%   50%    95%   N_Eff  N_Eff/s  R_hat\n",
      "name                                                                  \n",
      "alpha -0.29  0.0027   0.130 -0.50 -0.29 -0.078  2200.0    150.0    1.0\n",
      "beta   0.41  0.0031   0.140  0.18  0.41  0.630  1900.0    130.0    1.0\n",
      "rho    0.85  0.0068   0.160  0.50  0.90  1.000   570.0     40.0    1.0\n",
      "sigma  0.70  0.0016   0.056  0.61  0.70  0.800  1300.0     89.0    1.0\n"
     ]
    }
   ],
   "source": [
    "print('connected\\n{}\\n\\nislands\\n{}'.format(connected_summary.iloc[1:5,:], islands_summary.iloc[1:5,:]))"
   ]
  },
  {
   "cell_type": "markdown",
   "metadata": {},
   "source": [
    "For the connected and islands graphs, the nodes which have different connectivity are: (1,3,5,6,9,11,12).  To see how this affects the estimates, we look at the differences between parameters `phi` and `theta`."
   ]
  },
  {
   "cell_type": "code",
   "execution_count": 16,
   "metadata": {},
   "outputs": [
    {
     "name": "stdout",
     "output_type": "stream",
     "text": [
      "connected\n",
      "         Mean    MCSE  StdDev    5%    50%   95%   N_Eff  N_Eff/s  R_hat\n",
      "name                                                                    \n",
      "phi[1]   1.60  0.0095    0.44  0.87  1.600  2.30  2167.0    194.0    1.0\n",
      "phi[2]   1.60  0.0099    0.41  0.93  1.500  2.30  1727.0    155.0    1.0\n",
      "phi[3]   1.50  0.0110    0.50  0.69  1.500  2.30  2223.0    199.0    1.0\n",
      "phi[4]   0.43  0.0089    0.47 -0.38  0.450  1.20  2805.0    252.0    1.0\n",
      "phi[5]   1.40  0.0098    0.40  0.81  1.400  2.10  1657.0    149.0    1.0\n",
      "phi[6]   1.00  0.0120    0.54  0.19  1.000  1.90  2147.0    193.0    1.0\n",
      "phi[7]   1.30  0.0084    0.35  0.73  1.300  1.90  1735.0    156.0    1.0\n",
      "phi[8]   1.40  0.0120    0.61  0.42  1.400  2.40  2398.0    215.0    1.0\n",
      "phi[9]   0.98  0.0065    0.39  0.34  0.980  1.60  3594.0    323.0    1.0\n",
      "phi[10]  0.98  0.0079    0.38  0.39  0.970  1.60  2261.0    203.0    1.0\n",
      "phi[11]  1.40  0.0097    0.42  0.75  1.400  2.10  1916.0    172.0    1.0\n",
      "phi[12]  1.20  0.0110    0.52  0.40  1.200  2.10  2050.0    184.0    1.0\n",
      "phi[13]  1.10  0.0100    0.50  0.32  1.100  1.90  2426.0    218.0    1.0\n",
      "phi[14] -0.11  0.0098    0.50 -0.97 -0.081  0.67  2631.0    236.0    1.0\n",
      "\n",
      "islands\n",
      "         Mean    MCSE  StdDev    5%    50%  95%   N_Eff  N_Eff/s  R_hat\n",
      "name                                                                   \n",
      "phi[1]   1.70  0.0085    0.49  0.87  1.600  2.5  3341.0    232.0    1.0\n",
      "phi[2]   1.60  0.0098    0.44  0.93  1.600  2.3  1973.0    137.0    1.0\n",
      "phi[3]   1.60  0.0120    0.58  0.78  1.600  2.7  2161.0    150.0    1.0\n",
      "phi[4]   0.41  0.0110    0.50 -0.42  0.430  1.2  2216.0    154.0    1.0\n",
      "phi[5]   1.50  0.0093    0.43  0.82  1.500  2.2  2132.0    148.0    1.0\n",
      "phi[6]   0.42  0.0071    0.48 -0.42  0.440  1.2  4610.0    320.0    1.0\n",
      "phi[7]   1.30  0.0083    0.36  0.76  1.300  1.9  1937.0    134.0    1.0\n",
      "phi[8]   0.94  0.0058    0.49  0.14  0.950  1.7  6954.0    482.0    1.0\n",
      "phi[9]   0.98  0.0060    0.41  0.31  0.980  1.7  4756.0    330.0    1.0\n",
      "phi[10]  1.00  0.0081    0.39  0.40  1.000  1.7  2291.0    159.0    1.0\n",
      "phi[11]  1.00  0.0071    0.41  0.37  1.000  1.7  3372.0    234.0    1.0\n",
      "phi[12]  1.30  0.0120    0.60  0.31  1.300  2.3  2289.0    159.0    1.0\n",
      "phi[13]  1.20  0.0097    0.50  0.39  1.200  2.0  2686.0    186.0    1.0\n",
      "phi[14] -0.11  0.0097    0.51 -0.96 -0.095  0.7  2808.0    195.0    1.0\n"
     ]
    }
   ],
   "source": [
    "print('connected\\n{}\\n\\nislands\\n{}'.format(connected_summary.iloc[phi_rows,:][0:14], islands_summary.iloc[phi_rows,:][0:14]))"
   ]
  },
  {
   "cell_type": "code",
   "execution_count": 17,
   "metadata": {},
   "outputs": [
    {
     "data": {
      "text/plain": [
       "<matplotlib.collections.PathCollection at 0x7ff77957cdc0>"
      ]
     },
     "execution_count": 17,
     "metadata": {},
     "output_type": "execute_result"
    },
    {
     "data": {
      "image/png": "[encoded data removed]",
      "text/plain": [
       "<Figure size 792x576 with 1 Axes>"
      ]
     },
     "metadata": {
      "needs_background": "light"
     },
     "output_type": "display_data"
    }
   ],
   "source": [
    "phi_mean_connected = connected_summary.iloc[phi_rows,0]\n",
    "phi_mean_islands = islands_summary.iloc[phi_rows,0]\n",
    "plt.scatter(phi_mean_connected, phi_mean_islands)"
   ]
  },
  {
   "cell_type": "code",
   "execution_count": 18,
   "metadata": {},
   "outputs": [
    {
     "name": "stdout",
     "output_type": "stream",
     "text": [
      "connected\n",
      "            Mean   MCSE  StdDev   5%    50%  95%   N_Eff  N_Eff/s  R_hat\n",
      "name                                                                    \n",
      "theta[1]   0.310  0.013    0.99 -1.3  0.330  1.9  5544.0    497.0    1.0\n",
      "theta[2]   0.170  0.013    0.97 -1.4  0.170  1.7  5185.0    465.0    1.0\n",
      "theta[3]   0.140  0.011    0.98 -1.5  0.160  1.7  7954.0    714.0    1.0\n",
      "theta[4]   0.240  0.013    1.00 -1.4  0.270  1.9  6125.0    550.0    1.0\n",
      "theta[5]   0.170  0.012    0.98 -1.5  0.180  1.8  6833.0    613.0    1.0\n",
      "theta[6]  -0.180  0.012    1.00 -1.8 -0.190  1.5  7146.0    641.0    1.0\n",
      "theta[7]   0.270  0.013    0.96 -1.4  0.280  1.8  5408.0    485.0    1.0\n",
      "theta[8]   0.056  0.013    1.00 -1.6  0.051  1.8  6780.0    608.0    1.0\n",
      "theta[9]   0.220  0.011    0.97 -1.4  0.240  1.8  7373.0    662.0    1.0\n",
      "theta[10]  0.110  0.012    0.94 -1.4  0.090  1.7  5758.0    517.0    1.0\n",
      "theta[11]  0.090  0.012    0.95 -1.5  0.100  1.7  6330.0    568.0    1.0\n",
      "theta[12] -0.100  0.010    0.97 -1.7 -0.100  1.5  8497.0    763.0    1.0\n",
      "theta[13]  0.015  0.010    0.97 -1.6  0.027  1.6  9093.0    816.0    1.0\n",
      "theta[14]  0.200  0.012    0.97 -1.4  0.210  1.7  6234.0    559.0    1.0\n",
      "\n",
      "islands\n",
      "            Mean   MCSE  StdDev   5%    50%  95%   N_Eff  N_Eff/s  R_hat\n",
      "name                                                                    \n",
      "theta[1]   0.330  0.013    0.96 -1.3  0.330  1.9  5109.0    354.0    1.0\n",
      "theta[2]   0.180  0.013    0.98 -1.4  0.190  1.8  5619.0    390.0    1.0\n",
      "theta[3]   0.089  0.011    0.94 -1.5  0.089  1.6  7124.0    494.0    1.0\n",
      "theta[4]   0.250  0.013    0.97 -1.4  0.260  1.8  5230.0    363.0    1.0\n",
      "theta[5]   0.200  0.012    0.94 -1.4  0.210  1.7  5977.0    415.0    1.0\n",
      "theta[6]   0.074  0.011    0.99 -1.5  0.055  1.7  8088.0    561.0    1.0\n",
      "theta[7]   0.320  0.012    0.92 -1.3  0.350  1.8  5733.0    398.0    1.0\n",
      "theta[8]   0.180  0.012    0.98 -1.4  0.190  1.8  6420.0    445.0    1.0\n",
      "theta[9]   0.280  0.011    0.94 -1.3  0.290  1.8  7123.0    494.0    1.0\n",
      "theta[10]  0.110  0.012    0.94 -1.4  0.120  1.6  6303.0    437.0    1.0\n",
      "theta[11]  0.200  0.013    1.00 -1.5  0.210  1.8  6055.0    420.0    1.0\n",
      "theta[12] -0.150  0.011    0.96 -1.7 -0.140  1.4  7374.0    512.0    1.0\n",
      "theta[13]  0.012  0.010    0.97 -1.6  0.012  1.6  9241.0    641.0    1.0\n",
      "theta[14]  0.200  0.011    0.98 -1.4  0.200  1.8  7940.0    551.0    1.0\n"
     ]
    }
   ],
   "source": [
    "print('connected\\n{}\\n\\nislands\\n{}'.format(connected_summary.iloc[theta_rows,:][0:14], islands_summary.iloc[theta_rows,:][0:14]))"
   ]
  },
  {
   "cell_type": "markdown",
   "metadata": {},
   "source": [
    "We can also fit the connected graph as if it were a disconnected graph; the `BYM2_islands.stan` program allows graphs with a single component as input, all we need to do is supply the additional input data structures \"K\", \"K_node_cts\", etc."
   ]
  },
  {
   "cell_type": "code",
   "execution_count": 19,
   "metadata": {},
   "outputs": [
    {
     "name": "stderr",
     "output_type": "stream",
     "text": [
      "INFO:cmdstanpy:found newer exe file, not recompiling\n",
      "INFO:cmdstanpy:compiled model file: /Users/mitzi/github/stan-dev/example-models/knitr/car-iar-poisson/update_2021_02/bym2_islands\n",
      "INFO:cmdstanpy:start chain 1\n",
      "INFO:cmdstanpy:start chain 2\n",
      "INFO:cmdstanpy:start chain 3\n",
      "INFO:cmdstanpy:start chain 4\n",
      "INFO:cmdstanpy:finish chain 1\n",
      "INFO:cmdstanpy:finish chain 3\n",
      "INFO:cmdstanpy:finish chain 2\n",
      "INFO:cmdstanpy:finish chain 4\n"
     ]
    }
   ],
   "source": [
    "with open('scotland_connected_as_Kgraph.data.json') as fd:\n",
    "    s2_data = json.load(fd)\n",
    "bym2_islands_model = CmdStanModel(stan_file='bym2_islands.stan')\n",
    "bym2_s2_fit = bym2_islands_model.sample(data=s2_data, seed=12345)\n",
    "\n",
    "s2_summary = bym2_s2_fit.summary()"
   ]
  },
  {
   "cell_type": "markdown",
   "metadata": {},
   "source": [
    "Both models returns the same estimates, although the islands model is slower, due to the overhead of the indexing operations."
   ]
  },
  {
   "cell_type": "code",
   "execution_count": 20,
   "metadata": {},
   "outputs": [
    {
     "name": "stdout",
     "output_type": "stream",
     "text": [
      "connected, fit with bym2_model\n",
      "       Mean    MCSE  StdDev    5%   50%   95%   N_Eff  N_Eff/s  R_hat\n",
      "name                                                                 \n",
      "alpha -0.21  0.0027   0.120 -0.41 -0.21 -0.01  2100.0    190.0    1.0\n",
      "beta   0.36  0.0029   0.130  0.15  0.36  0.57  2000.0    180.0    1.0\n",
      "rho    0.88  0.0053   0.140  0.57  0.94  1.00   690.0     61.0    1.0\n",
      "sigma  0.71  0.0019   0.059  0.62  0.71  0.81   930.0     83.0    1.0\n",
      "\n",
      "connected, fit with bym2_islands model\n",
      "       Mean    MCSE  StdDev    5%   50%   95%   N_Eff  N_Eff/s  R_hat\n",
      "name                                                                 \n",
      "alpha -0.21  0.0027   0.120 -0.41 -0.21 -0.01  2100.0    150.0    1.0\n",
      "beta   0.36  0.0029   0.130  0.15  0.36  0.57  2000.0    140.0    1.0\n",
      "rho    0.88  0.0053   0.140  0.57  0.94  1.00   690.0     48.0    1.0\n",
      "sigma  0.71  0.0019   0.059  0.62  0.71  0.81   930.0     65.0    1.0\n"
     ]
    }
   ],
   "source": [
    "print('connected, fit with bym2_model\\n{}\\n\\nconnected, fit with bym2_islands model\\n{}'.format(connected_summary.iloc[1:5,:], s2_summary.iloc[1:5,:]))"
   ]
  },
  {
   "cell_type": "markdown",
   "metadata": {},
   "source": [
    "### Mainland plus 1 singleton, and combined Shetland + Orkney component\n",
    "\n",
    "For the Scotland map with 3 components, in file `scotland_3_comps_nbs.data.R`, the islands of Shetland and Orkney have been combined.  This dataset exists to test additional possible kinds of maps, but provides no additional insights on the model or the domain data."
   ]
  },
  {
   "cell_type": "code",
   "execution_count": 21,
   "metadata": {},
   "outputs": [
    {
     "name": "stderr",
     "output_type": "stream",
     "text": [
      "INFO:cmdstanpy:start chain 1\n",
      "INFO:cmdstanpy:start chain 2\n",
      "INFO:cmdstanpy:start chain 3\n",
      "INFO:cmdstanpy:start chain 4\n",
      "INFO:cmdstanpy:finish chain 4\n",
      "INFO:cmdstanpy:finish chain 2\n",
      "INFO:cmdstanpy:finish chain 1\n",
      "INFO:cmdstanpy:finish chain 3\n"
     ]
    }
   ],
   "source": [
    "bym2_c3_fit = bym2_islands_model.sample(data='scotland_3_comp.data.json', seed=12345)"
   ]
  },
  {
   "cell_type": "code",
   "execution_count": 22,
   "metadata": {},
   "outputs": [
    {
     "data": {
      "text/html": [
       "<div>\n",
       "<style scoped>\n",
       "    .dataframe tbody tr th:only-of-type {\n",
       "        vertical-align: middle;\n",
       "    }\n",
       "\n",
       "    .dataframe tbody tr th {\n",
       "        vertical-align: top;\n",
       "    }\n",
       "\n",
       "    .dataframe thead th {\n",
       "        text-align: right;\n",
       "    }\n",
       "</style>\n",
       "<table border=\"1\" class=\"dataframe\">\n",
       "  <thead>\n",
       "    <tr style=\"text-align: right;\">\n",
       "      <th></th>\n",
       "      <th>Mean</th>\n",
       "      <th>MCSE</th>\n",
       "      <th>StdDev</th>\n",
       "      <th>5%</th>\n",
       "      <th>50%</th>\n",
       "      <th>95%</th>\n",
       "      <th>N_Eff</th>\n",
       "      <th>N_Eff/s</th>\n",
       "      <th>R_hat</th>\n",
       "    </tr>\n",
       "    <tr>\n",
       "      <th>name</th>\n",
       "      <th></th>\n",
       "      <th></th>\n",
       "      <th></th>\n",
       "      <th></th>\n",
       "      <th></th>\n",
       "      <th></th>\n",
       "      <th></th>\n",
       "      <th></th>\n",
       "      <th></th>\n",
       "    </tr>\n",
       "  </thead>\n",
       "  <tbody>\n",
       "    <tr>\n",
       "      <th>lp__</th>\n",
       "      <td>750.00</td>\n",
       "      <td>0.3300</td>\n",
       "      <td>9.100</td>\n",
       "      <td>740.00</td>\n",
       "      <td>760.00</td>\n",
       "      <td>770.00</td>\n",
       "      <td>750.0</td>\n",
       "      <td>12.0</td>\n",
       "      <td>1.0</td>\n",
       "    </tr>\n",
       "    <tr>\n",
       "      <th>alpha</th>\n",
       "      <td>-0.32</td>\n",
       "      <td>0.0028</td>\n",
       "      <td>0.130</td>\n",
       "      <td>-0.54</td>\n",
       "      <td>-0.32</td>\n",
       "      <td>-0.11</td>\n",
       "      <td>2000.0</td>\n",
       "      <td>33.0</td>\n",
       "      <td>1.0</td>\n",
       "    </tr>\n",
       "    <tr>\n",
       "      <th>beta</th>\n",
       "      <td>0.47</td>\n",
       "      <td>0.0032</td>\n",
       "      <td>0.130</td>\n",
       "      <td>0.25</td>\n",
       "      <td>0.47</td>\n",
       "      <td>0.68</td>\n",
       "      <td>1700.0</td>\n",
       "      <td>27.0</td>\n",
       "      <td>1.0</td>\n",
       "    </tr>\n",
       "    <tr>\n",
       "      <th>rho</th>\n",
       "      <td>0.79</td>\n",
       "      <td>0.0082</td>\n",
       "      <td>0.190</td>\n",
       "      <td>0.43</td>\n",
       "      <td>0.84</td>\n",
       "      <td>1.00</td>\n",
       "      <td>520.0</td>\n",
       "      <td>8.4</td>\n",
       "      <td>1.0</td>\n",
       "    </tr>\n",
       "    <tr>\n",
       "      <th>sigma</th>\n",
       "      <td>0.71</td>\n",
       "      <td>0.0019</td>\n",
       "      <td>0.058</td>\n",
       "      <td>0.62</td>\n",
       "      <td>0.71</td>\n",
       "      <td>0.81</td>\n",
       "      <td>900.0</td>\n",
       "      <td>15.0</td>\n",
       "      <td>1.0</td>\n",
       "    </tr>\n",
       "    <tr>\n",
       "      <th>...</th>\n",
       "      <td>...</td>\n",
       "      <td>...</td>\n",
       "      <td>...</td>\n",
       "      <td>...</td>\n",
       "      <td>...</td>\n",
       "      <td>...</td>\n",
       "      <td>...</td>\n",
       "      <td>...</td>\n",
       "      <td>...</td>\n",
       "    </tr>\n",
       "    <tr>\n",
       "      <th>y_prime[53]</th>\n",
       "      <td>2.30</td>\n",
       "      <td>0.0100</td>\n",
       "      <td>0.890</td>\n",
       "      <td>1.10</td>\n",
       "      <td>2.20</td>\n",
       "      <td>3.90</td>\n",
       "      <td>7276.0</td>\n",
       "      <td>118.0</td>\n",
       "      <td>1.0</td>\n",
       "    </tr>\n",
       "    <tr>\n",
       "      <th>y_prime[54]</th>\n",
       "      <td>2.80</td>\n",
       "      <td>0.0140</td>\n",
       "      <td>0.970</td>\n",
       "      <td>1.50</td>\n",
       "      <td>2.70</td>\n",
       "      <td>4.60</td>\n",
       "      <td>4836.0</td>\n",
       "      <td>78.0</td>\n",
       "      <td>1.0</td>\n",
       "    </tr>\n",
       "    <tr>\n",
       "      <th>y_prime[55]</th>\n",
       "      <td>3.70</td>\n",
       "      <td>0.0220</td>\n",
       "      <td>1.300</td>\n",
       "      <td>1.90</td>\n",
       "      <td>3.50</td>\n",
       "      <td>6.00</td>\n",
       "      <td>3422.0</td>\n",
       "      <td>55.0</td>\n",
       "      <td>1.0</td>\n",
       "    </tr>\n",
       "    <tr>\n",
       "      <th>y_prime[56]</th>\n",
       "      <td>1.40</td>\n",
       "      <td>0.0063</td>\n",
       "      <td>0.510</td>\n",
       "      <td>0.73</td>\n",
       "      <td>1.40</td>\n",
       "      <td>2.30</td>\n",
       "      <td>6634.0</td>\n",
       "      <td>107.0</td>\n",
       "      <td>1.0</td>\n",
       "    </tr>\n",
       "    <tr>\n",
       "      <th>logit_rho</th>\n",
       "      <td>2.10</td>\n",
       "      <td>0.1000</td>\n",
       "      <td>2.100</td>\n",
       "      <td>-0.30</td>\n",
       "      <td>1.60</td>\n",
       "      <td>6.50</td>\n",
       "      <td>512.5</td>\n",
       "      <td>8.3</td>\n",
       "      <td>1.0</td>\n",
       "    </tr>\n",
       "  </tbody>\n",
       "</table>\n",
       "<p>286 rows × 9 columns</p>\n",
       "</div>"
      ],
      "text/plain": [
       "               Mean    MCSE  StdDev      5%     50%     95%   N_Eff  N_Eff/s  \\\n",
       "name                                                                           \n",
       "lp__         750.00  0.3300   9.100  740.00  760.00  770.00   750.0     12.0   \n",
       "alpha         -0.32  0.0028   0.130   -0.54   -0.32   -0.11  2000.0     33.0   \n",
       "beta           0.47  0.0032   0.130    0.25    0.47    0.68  1700.0     27.0   \n",
       "rho            0.79  0.0082   0.190    0.43    0.84    1.00   520.0      8.4   \n",
       "sigma          0.71  0.0019   0.058    0.62    0.71    0.81   900.0     15.0   \n",
       "...             ...     ...     ...     ...     ...     ...     ...      ...   \n",
       "y_prime[53]    2.30  0.0100   0.890    1.10    2.20    3.90  7276.0    118.0   \n",
       "y_prime[54]    2.80  0.0140   0.970    1.50    2.70    4.60  4836.0     78.0   \n",
       "y_prime[55]    3.70  0.0220   1.300    1.90    3.50    6.00  3422.0     55.0   \n",
       "y_prime[56]    1.40  0.0063   0.510    0.73    1.40    2.30  6634.0    107.0   \n",
       "logit_rho      2.10  0.1000   2.100   -0.30    1.60    6.50   512.5      8.3   \n",
       "\n",
       "             R_hat  \n",
       "name                \n",
       "lp__           1.0  \n",
       "alpha          1.0  \n",
       "beta           1.0  \n",
       "rho            1.0  \n",
       "sigma          1.0  \n",
       "...            ...  \n",
       "y_prime[53]    1.0  \n",
       "y_prime[54]    1.0  \n",
       "y_prime[55]    1.0  \n",
       "y_prime[56]    1.0  \n",
       "logit_rho      1.0  \n",
       "\n",
       "[286 rows x 9 columns]"
      ]
     },
     "execution_count": 22,
     "metadata": {},
     "output_type": "execute_result"
    }
   ],
   "source": [
    "c3_summary = bym2_c3_fit.summary()\n",
    "c3_summary"
   ]
  },
  {
   "cell_type": "code",
   "execution_count": null,
   "metadata": {},
   "outputs": [],
   "source": []
  }
 ],
 "metadata": {
  "kernelspec": {
   "display_name": "Python 3",
   "language": "python",
   "name": "python3"
  },
  "language_info": {
   "codemirror_mode": {
    "name": "ipython",
    "version": 3
   },
   "file_extension": ".py",
   "mimetype": "text/x-python",
   "name": "python",
   "nbconvert_exporter": "python",
   "pygments_lexer": "ipython3",
   "version": "3.8.5"
  }
 },
 "nbformat": 4,
 "nbformat_minor": 4
}
