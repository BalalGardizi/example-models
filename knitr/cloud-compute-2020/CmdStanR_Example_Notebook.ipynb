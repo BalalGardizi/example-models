{
  "nbformat": 4,
  "nbformat_minor": 0,
  "metadata": {
    "kernelspec": {
      "display_name": "R",
      "language": "R",
      "name": "ir"
    },
    "language_info": {
      "codemirror_mode": "r",
      "file_extension": ".r",
      "mimetype": "text/x-r-source",
      "name": "R",
      "pygments_lexer": "r",
      "version": "3.6.1"
    },
    "colab": {
      "name": "CmdStanR Example Notebook.ipynb",
      "provenance": [],
      "collapsed_sections": [],
      "include_colab_link": true
    }
  },
  "cells": [
    {
      "cell_type": "markdown",
      "metadata": {
        "id": "view-in-github",
        "colab_type": "text"
      },
      "source": [
        "<a href=\"https://colab.research.google.com/github/stan-dev/example-models/blob/case-study%2Fstan-cloud/knitr/cloud-compute-2020/CmdStanR_Example_Notebook.ipynb\" target=\"_parent\"><img src=\"https://colab.research.google.com/assets/colab-badge.svg\" alt=\"Open In Colab\"/></a>"
      ]
    },
    {
      "cell_type": "markdown",
      "metadata": {
        "id": "fhNZXCzKuFFF",
        "colab_type": "text"
      },
      "source": [
        "## CmdStanR Jupyter Notebook"
      ]
    },
    {
      "cell_type": "markdown",
      "metadata": {
        "id": "plYLB428nANy",
        "colab_type": "text"
      },
      "source": [
        "This notebook demonstrates how to install the [CmdStanR](https://mc-stan.org/cmdstanr/) toolchain on a Google Colab instance and verify the installation by running the Stan NUTS-HMC sampler on the example model and data which are included with CmdStan.  Each code block in this notebook updates the R environment, therefore you must step through this notebook cell by cell."
      ]
    },
    {
      "cell_type": "markdown",
      "metadata": {
        "id": "KdxCvJEuPF05",
        "colab_type": "text"
      },
      "source": [
        "Step 1: install CmdStanR and only the packages that it directly depends on."
      ]
    },
    {
      "cell_type": "code",
      "metadata": {
        "colab_type": "code",
        "id": "xdDWhBEkLLxe",
        "colab": {}
      },
      "source": [
        "# Preliminary setup\n",
        "install.packages('versions')\n",
        "library(versions)\n",
        "install.versions('rlang','0.4.5')\n",
        "# Install package CmdStanR from GitHub\n",
        "library(devtools)\n",
        "if(!require(cmdstanr)){\n",
        "  devtools::install_github(\"stan-dev/cmdstanr\", dependencies=c(\"Depends\", \"Imports\"))\n",
        "  library(cmdstanr)\n",
        "}"
      ],
      "execution_count": 0,
      "outputs": []
    },
    {
      "cell_type": "markdown",
      "metadata": {
        "id": "vKC5m2WnPot5",
        "colab_type": "text"
      },
      "source": [
        "Step 2: download and untar the CmdStan binary for Google Colab instances."
      ]
    },
    {
      "cell_type": "code",
      "metadata": {
        "id": "2WtFcXmMuFFI",
        "colab_type": "code",
        "colab": {}
      },
      "source": [
        "# Install CmdStan binaries\n",
        "if (!file.exists(\"cmdstan-2-22-1.tgz\")) {\n",
        "  system(\"wget https://storage.googleapis.com/cmdstan-2-22-tgz/cmdstan-2-22-1.tgz\", intern=T)\n",
        "  system(\"tar zxf cmdstan-2-22-1.tgz\", intern=T)\n",
        "}\n",
        "list.files(\"cmdstan-2.22.1\")"
      ],
      "execution_count": 0,
      "outputs": []
    },
    {
      "cell_type": "markdown",
      "metadata": {
        "id": "ISj4Hs14QPgq",
        "colab_type": "text"
      },
      "source": [
        "Step 3: Register the CmdStan install location."
      ]
    },
    {
      "cell_type": "code",
      "metadata": {
        "id": "8-oNTCSauFFQ",
        "colab_type": "code",
        "colab": {}
      },
      "source": [
        "# Set cmdstan_path to CmdStan installation\n",
        "set_cmdstan_path(\"cmdstan-2.22.1\")"
      ],
      "execution_count": 0,
      "outputs": []
    },
    {
      "cell_type": "code",
      "metadata": {
        "id": "tPpLCroGb3sC",
        "colab_type": "code",
        "colab": {}
      },
      "source": [
        "# helper function\n",
        "print_file <- function(file, nlines=-1L) {\n",
        "  cat(paste(readLines(file, n=nlines), \"\\n\", sep=\"\"), sep=\"\")\n",
        "}"
      ],
      "execution_count": 0,
      "outputs": []
    },
    {
      "cell_type": "markdown",
      "metadata": {
        "id": "0TzujbjCTR_-",
        "colab_type": "text"
      },
      "source": [
        "The CmdStan installation includes a simple example program `bernoulli.stan` and test data `bernoulli.data.json`.  These are in the CmdStan installation directory `examples/bernoulli`.\n",
        "\n",
        "The program `bernoulli.stan` takes a vector `y` of length `N` containing binary outcomes and uses a bernoulli distribution to estimate `theta`, the chance of success."
      ]
    },
    {
      "cell_type": "code",
      "metadata": {
        "id": "ruoT3q8AT-ZK",
        "colab_type": "code",
        "colab": {}
      },
      "source": [
        "stan_file <- file.path(cmdstan_path(), \"examples\", \"bernoulli\", \"bernoulli.stan\")\n",
        "print_file(stan_file)"
      ],
      "execution_count": 0,
      "outputs": []
    },
    {
      "cell_type": "markdown",
      "metadata": {
        "id": "Kr2OjUidc3-o",
        "colab_type": "text"
      },
      "source": [
        "The data file `bernoulli.data.json` contains 10 observations, split between 2 successes (1) and 8 failures (0)."
      ]
    },
    {
      "cell_type": "code",
      "metadata": {
        "id": "godUnti5dbV-",
        "colab_type": "code",
        "colab": {}
      },
      "source": [
        "data_file <- file.path(cmdstan_path(), \"examples\", \"bernoulli\", \"bernoulli.data.json\")\n",
        "print_file(data_file)"
      ],
      "execution_count": 0,
      "outputs": []
    },
    {
      "cell_type": "markdown",
      "metadata": {
        "id": "dSaPjRI4fqhc",
        "colab_type": "text"
      },
      "source": [
        "The following code test that the CmdStanR toolchain is properly installed by compiling the example model, fitting it to the data, and obtaining a summary of estimates of the posterior distribution of all parameters and quantities of interest."
      ]
    },
    {
      "cell_type": "code",
      "metadata": {
        "id": "5gS9PxrPuFFT",
        "colab_type": "code",
        "colab": {}
      },
      "source": [
        "# Compile example model bernoulli.stan\n",
        "mod <- cmdstan_model(stan_file)\n",
        "\n",
        "# Condition on example data bernoulli.data.json, obtains a sample from the posterior\n",
        "fit <- mod$sample(data = data_file, seed=123)\n",
        "\n",
        "# Print a summary of the posterior sample\n",
        "options(digits = 2)\n",
        "fit$summary()"
      ],
      "execution_count": 0,
      "outputs": []
    },
    {
      "cell_type": "code",
      "metadata": {
        "id": "MouH1F-Nh9KG",
        "colab_type": "code",
        "colab": {}
      },
      "source": [
        ""
      ],
      "execution_count": 0,
      "outputs": []
    }
  ]
}