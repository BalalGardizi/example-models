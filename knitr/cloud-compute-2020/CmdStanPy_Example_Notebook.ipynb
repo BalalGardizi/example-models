{
  "nbformat": 4,
  "nbformat_minor": 0,
  "metadata": {
    "colab": {
      "name": "CmdStanPy_example_notebook.ipynb",
      "provenance": [],
      "collapsed_sections": [],
      "include_colab_link": true
    },
    "kernelspec": {
      "name": "python3",
      "display_name": "Python 3"
    }
  },
  "cells": [
    {
      "cell_type": "markdown",
      "metadata": {
        "id": "view-in-github",
        "colab_type": "text"
      },
      "source": [
        "<a href=\"https://colab.research.google.com/github/stan-dev/example-models/knitr/cloud-compute-2020/CmdStanPy_example_notebook.ipynb\" target=\"_parent\"><img src=\"https://colab.research.google.com/assets/colab-badge.svg\" alt=\"Open In Colab\"/></a>"
      ]
    },
    {
      "cell_type": "markdown",
      "metadata": {
        "id": "OMXhj0pRx83J",
        "colab_type": "text"
      },
      "source": [
        "# CmdStanPy Example Notebook"
      ]
    },
    {
      "cell_type": "markdown",
      "metadata": {
        "id": "cifBIPk-x-Zu",
        "colab_type": "text"
      },
      "source": [
        "This notebook demonstrates how to install the [CmdStanPy](https://cmdstanpy.readthedocs.io/en/latest/index.html) toolchain on a Google Colab instance and verify the installation by running the Stan NUTS-HMC sampler on the example model and data which are included with CmdStan. Each code block in this notebook updates the Python environment, therefore you must step through this notebook cell by cell."
      ]
    },
    {
      "cell_type": "markdown",
      "metadata": {
        "id": "ZWi7Uov0yeZO",
        "colab_type": "text"
      },
      "source": [
        "Step 1: install CmdStanPy"
      ]
    },
    {
      "cell_type": "code",
      "metadata": {
        "id": "gbdHhsx_yeY3",
        "colab_type": "code",
        "colab": {}
      },
      "source": [
        "# Install package CmdStanPy\n",
        "!pip install --upgrade cmdstanpy"
      ],
      "execution_count": 0,
      "outputs": []
    },
    {
      "cell_type": "markdown",
      "metadata": {
        "id": "-lpfg3EWy_dq",
        "colab_type": "text"
      },
      "source": [
        "Step 2: download and untar the CmdStan binary for Google Colab instances."
      ]
    },
    {
      "cell_type": "code",
      "metadata": {
        "id": "ccnCCoogxJCk",
        "colab_type": "code",
        "colab": {}
      },
      "source": [
        "# Download, unpack CmdStan binaries\n",
        "import os\n",
        "import urllib.request\n",
        "import shutil\n",
        "tgz_file = 'cmdstan-2-22-1.tgz'\n",
        "tgz_url = 'https://storage.googleapis.com/cmdstan-2-22-tgz/cmdstan-2-22-1.tgz'\n",
        "\n",
        "if not os.path.exists(tgz_file):\n",
        "  try:\n",
        "    urllib.request.urlretrieve(tgz_url, tgz_file)\n",
        "    shutil.unpack_archive(tgz_file)\n",
        "  except Exception:\n",
        "    raise KeyboardInterrupt\n"
      ],
      "execution_count": 0,
      "outputs": []
    },
    {
      "cell_type": "markdown",
      "metadata": {
        "id": "asoni75FzHsH",
        "colab_type": "text"
      },
      "source": [
        "Step 3: Register the CmdStan install location."
      ]
    },
    {
      "cell_type": "code",
      "metadata": {
        "id": "Qbrn6pc_zgVg",
        "colab_type": "code",
        "colab": {}
      },
      "source": [
        "# CmdStan is installed in current working directory\n",
        "!ls\n",
        "# Specify CmdStan location via environment variable\n",
        "import os\n",
        "os.environ['CMDSTAN'] = './cmdstan-2.22.1'\n",
        "# Check CmdStan path\n",
        "from cmdstanpy import cmdstan_path\n",
        "cmdstan_path()"
      ],
      "execution_count": 0,
      "outputs": []
    },
    {
      "cell_type": "markdown",
      "metadata": {
        "id": "axHFBvb_zlpT",
        "colab_type": "text"
      },
      "source": [
        "The CmdStan installation includes a simple example program `bernoulli.stan` and test data `bernoulli.data.json`. These are in the CmdStan installation directory `examples/bernoulli`.\n",
        "\n",
        "The program `bernoulli.stan` takes a vector `y` of length `N` containing binary outcomes and uses a bernoulli distribution to estimate `theta`, the chance of success."
      ]
    },
    {
      "cell_type": "code",
      "metadata": {
        "id": "IKejoEF1z6kl",
        "colab_type": "code",
        "colab": {}
      },
      "source": [
        "bernoulli_stan = os.path.join(cmdstan_path(), 'examples', 'bernoulli', 'bernoulli.stan')\n",
        "with open(bernoulli_stan, 'r') as fd:\n",
        "        print('\\n'.join(fd.read().splitlines()))"
      ],
      "execution_count": 0,
      "outputs": []
    },
    {
      "cell_type": "markdown",
      "metadata": {
        "id": "ueXvmFy8120t",
        "colab_type": "text"
      },
      "source": [
        "The data file `bernoulli.data.json` contains 10 observations, split between 2 successes (1) and 8 failures (0)."
      ]
    },
    {
      "cell_type": "code",
      "metadata": {
        "id": "_WjtpDrJ159b",
        "colab_type": "code",
        "colab": {}
      },
      "source": [
        "bernoulli_data = os.path.join(cmdstan_path(), 'examples', 'bernoulli', 'bernoulli.data.json')\n",
        "with open(bernoulli_data, 'r') as fd:\n",
        "        print('\\n'.join(fd.read().splitlines()))"
      ],
      "execution_count": 0,
      "outputs": []
    },
    {
      "cell_type": "markdown",
      "metadata": {
        "id": "tNIwJV5v221e",
        "colab_type": "text"
      },
      "source": [
        "The following code test that the CmdStanPy toolchain is properly installed by compiling the example model, fitting it to the data, and obtaining a summary of estimates of the posterior distribution of all parameters and quantities of interest.\n",
        "\n"
      ]
    },
    {
      "cell_type": "code",
      "metadata": {
        "id": "hyk_X__R0vJc",
        "colab_type": "code",
        "colab": {}
      },
      "source": [
        "# Run CmdStanPy Hello, World! example\n",
        "from cmdstanpy import cmdstan_path, CmdStanModel\n",
        "\n",
        "# Compile example model bernoulli.stan\n",
        "bernoulli_model = CmdStanModel(stan_file=bernoulli_stan)\n",
        "\n",
        "# Condition on example data bernoulli.data.json\n",
        "bern_fit = bernoulli_model.sample(data=bernoulli_data, seed=123)\n",
        "\n",
        "# Print a summary of the posterior sample\n",
        "bern_fit.summary()"
      ],
      "execution_count": 0,
      "outputs": []
    },
    {
      "cell_type": "code",
      "metadata": {
        "id": "Nmqhy9E6_8K8",
        "colab_type": "code",
        "colab": {}
      },
      "source": [
        ""
      ],
      "execution_count": 0,
      "outputs": []
    }
  ]
}