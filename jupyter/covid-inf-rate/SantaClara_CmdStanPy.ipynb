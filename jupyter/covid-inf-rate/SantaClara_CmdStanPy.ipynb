{
  "nbformat": 4,
  "nbformat_minor": 0,
  "metadata": {
    "colab": {
      "name": "SantaClara_CmdStanPy.ipynb",
      "provenance": [],
      "collapsed_sections": [],
      "authorship_tag": "ABX9TyMfi5qWhQilw+LVRY7NrH0W",
      "include_colab_link": true
    },
    "kernelspec": {
      "name": "python3",
      "display_name": "Python 3"
    }
  },
  "cells": [
    {
      "cell_type": "markdown",
      "metadata": {
        "id": "view-in-github",
        "colab_type": "text"
      },
      "source": [
        "<a href=\"https://colab.research.google.com/github/stan-dev/example-models/blob/master/jupyter/covid-inf-rate/SantaClara_CmdStanPy.ipynb\" target=\"_parent\"><img src=\"https://colab.research.google.com/assets/colab-badge.svg\" alt=\"Open In Colab\"/></a>"
      ]
    },
    {
      "cell_type": "markdown",
      "metadata": {
        "id": "PRpyEjTGMvGJ",
        "colab_type": "text"
      },
      "source": [
        "# Simple Bayesian analysis inference of coronavirus infection rate from the Stanford study in Santa Clara county\n",
        "\n",
        "This Google Colab Python notebook provides the models and data discussed here:  [Simple Bayesian analysis inference of coronavirus infection rate from the Stanford study in Santa Clara county](https://statmodeling.stat.columbia.edu/2020/05/01/simple-bayesian-analysis-inference-of-coronavirus-infection-rate-from-the-stanford-study-in-santa-clara-county/)\n",
        "\n",
        "It uses CmdStanPy to compile and fit the model.  \n",
        "\n",
        "\n",
        "#### First up, a little admin to get the latest CmdStanPy and CmdStan installed on this instance.\n"
      ]
    },
    {
      "cell_type": "code",
      "metadata": {
        "id": "_PhuUXhaLk2o",
        "colab_type": "code",
        "colab": {}
      },
      "source": [
        "# Load packages used in this notebook\n",
        "import os\n",
        "import json\n",
        "import shutil\n",
        "import urllib.request\n",
        "import pandas as pd"
      ],
      "execution_count": 0,
      "outputs": []
    },
    {
      "cell_type": "code",
      "metadata": {
        "id": "XjVPUpT7U5DA",
        "colab_type": "code",
        "colab": {
          "base_uri": "https://localhost:8080/",
          "height": 231
        },
        "outputId": "f4cdec17-6a51-46e9-a261-17d182d6375a"
      },
      "source": [
        "# Please use the latest version of CmdStanPy\n",
        "pip install --upgrade cmdstanpy"
      ],
      "execution_count": 2,
      "outputs": [
        {
          "output_type": "stream",
          "text": [
            "Collecting cmdstanpy\n",
            "  Downloading https://files.pythonhosted.org/packages/e3/e2/204c9c6beaf9e05ad28bd589c154afff35dffa6166d76841d3c0dec6c1e3/cmdstanpy-0.9.5-py3-none-any.whl\n",
            "Requirement already satisfied, skipping upgrade: numpy in /usr/local/lib/python3.6/dist-packages (from cmdstanpy) (1.18.3)\n",
            "Requirement already satisfied, skipping upgrade: pandas in /usr/local/lib/python3.6/dist-packages (from cmdstanpy) (1.0.3)\n",
            "Requirement already satisfied, skipping upgrade: python-dateutil>=2.6.1 in /usr/local/lib/python3.6/dist-packages (from pandas->cmdstanpy) (2.8.1)\n",
            "Requirement already satisfied, skipping upgrade: pytz>=2017.2 in /usr/local/lib/python3.6/dist-packages (from pandas->cmdstanpy) (2018.9)\n",
            "Requirement already satisfied, skipping upgrade: six>=1.5 in /usr/local/lib/python3.6/dist-packages (from python-dateutil>=2.6.1->pandas->cmdstanpy) (1.12.0)\n",
            "\u001b[31mERROR: fbprophet 0.6 has requirement cmdstanpy==0.4, but you'll have cmdstanpy 0.9.5 which is incompatible.\u001b[0m\n",
            "Installing collected packages: cmdstanpy\n",
            "  Found existing installation: cmdstanpy 0.4.0\n",
            "    Uninstalling cmdstanpy-0.4.0:\n",
            "      Successfully uninstalled cmdstanpy-0.4.0\n",
            "Successfully installed cmdstanpy-0.9.5\n"
          ],
          "name": "stdout"
        }
      ]
    },
    {
      "cell_type": "code",
      "metadata": {
        "id": "csMJH1d6Euvg",
        "colab_type": "code",
        "colab": {}
      },
      "source": [
        "# Install pre-built CmdStan binary\n",
        "# (faster than compiling from source via install_cmdstan() function)\n",
        "tgz_file = 'colab-cmdstan-2.23.0.tar.gz'\n",
        "tgz_url = 'https://github.com/stan-dev/cmdstan/releases/download/v2.23.0/colab-cmdstan-2.23.0.tar.gz'\n",
        "if not os.path.exists(tgz_file):\n",
        "    urllib.request.urlretrieve(tgz_url, tgz_file)\n",
        "    shutil.unpack_archive(tgz_file)"
      ],
      "execution_count": 0,
      "outputs": []
    },
    {
      "cell_type": "code",
      "metadata": {
        "id": "poxkQLCAFYt2",
        "colab_type": "code",
        "colab": {
          "base_uri": "https://localhost:8080/",
          "height": 33
        },
        "outputId": "38924f5a-294d-42a2-eccb-54ecf542a044"
      },
      "source": [
        "# Specify CmdStan location via environment variable\n",
        "os.environ['CMDSTAN'] = './cmdstan-2.23.0'\n",
        "# Check CmdStan path\n",
        "from cmdstanpy import CmdStanModel, cmdstan_path\n",
        "cmdstan_path()"
      ],
      "execution_count": 4,
      "outputs": [
        {
          "output_type": "execute_result",
          "data": {
            "text/plain": [
              "'./cmdstan-2.23.0'"
            ]
          },
          "metadata": {
            "tags": []
          },
          "execution_count": 4
        }
      ]
    },
    {
      "cell_type": "markdown",
      "metadata": {
        "id": "yQS1YxCjOAIk",
        "colab_type": "text"
      },
      "source": [
        "#### Upload models and data from GitHub\n",
        "\n",
        "The models and data are available on the Stan GitHub repo https://github.com/stan-dev/example-models/tree/master/jupyter/covid-inf-rate"
      ]
    },
    {
      "cell_type": "code",
      "metadata": {
        "id": "p471RApxEBtR",
        "colab_type": "code",
        "colab": {
          "base_uri": "https://localhost:8080/",
          "height": 264
        },
        "outputId": "777539d2-9086-4824-ecab-92f7be410acb"
      },
      "source": [
        "# Upload models and data onto this instance (raw github content files)\n",
        "urllib.request.urlretrieve('https://raw.githubusercontent.com/stan-dev/example-models/master/jupyter/covid-inf-rate/data/santa_clara_all.data.json', 'santa_clara_all.data.json')\n",
        "urllib.request.urlretrieve('https://raw.githubusercontent.com/stan-dev/example-models/master/jupyter/covid-inf-rate/data/santa_clara_apr_11.data.json', 'santa_clara_apr_11.data.json')\n",
        "urllib.request.urlretrieve('https://raw.githubusercontent.com/stan-dev/example-models/master/jupyter/covid-inf-rate/data/santa_clara_apr_27.data.json', 'santa_clara_apr_27.data.json')\n",
        "urllib.request.urlretrieve('https://raw.githubusercontent.com/stan-dev/example-models/master/jupyter/covid-inf-rate/stan/pool_sens_spec.stan', 'pool_sens_spec.stan')\n",
        "urllib.request.urlretrieve('https://raw.githubusercontent.com/stan-dev/example-models/master/jupyter/covid-inf-rate/stan/hier_sens_spec.stan', 'hier_sens_spec.stan')\n",
        "urllib.request.urlretrieve('https://raw.githubusercontent.com/stan-dev/example-models/master/jupyter/covid-inf-rate/stan/hier_sens_spec_offset_mult.stan', 'hier_sens_spec_offset_mult.stan')\n",
        "!ls\n",
        "!echo \"\"\n",
        "!echo \"santa_clara_apr_11.data.json:\"\n",
        "!cat santa_clara_apr_11.data.json"
      ],
      "execution_count": 7,
      "outputs": [
        {
          "output_type": "stream",
          "text": [
            "cmdstan-2.23.0\t\t\t sample_data\n",
            "colab-cmdstan-2.23.0.tar.gz\t santa_clara_all.data.json\n",
            "hier_sens_spec_offset_mult.stan  santa_clara_apr_11.data.json\n",
            "hier_sens_spec.stan\t\t santa_clara_apr_27.data.json\n",
            "pool_sens_spec.stan\n",
            "\n",
            "santa_clara_apr_11.data.json:\n",
            "{\n",
            "    \"y_sample\" : 50,\n",
            "    \"n_sample\" : 3330,\n",
            "    \"y_spec\" : 399,\n",
            "    \"n_spec\" : 401,\n",
            "    \"y_sens\" : 105,\n",
            "    \"n_sens\" : 122\n",
            "}\n"
          ],
          "name": "stdout"
        }
      ]
    },
    {
      "cell_type": "markdown",
      "metadata": {
        "id": "GMUDMOh_WvQD",
        "colab_type": "text"
      },
      "source": [
        "In the Santa Clara study, of the 3330 people tested (`n_sample`), 50 test results were positive (`y_sample`).  The first version of the paper was released on April 11th, and used specificity data from two studies and sensitivity data from two other studies."
      ]
    },
    {
      "cell_type": "code",
      "metadata": {
        "id": "vjcmosNlULIe",
        "colab_type": "code",
        "colab": {
          "base_uri": "https://localhost:8080/",
          "height": 115
        },
        "outputId": "7e5f4912-dff5-4b1d-a623-aa3e72f34fc8"
      },
      "source": [
        "apr_11 = {}\n",
        "with open('santa_clara_apr_11.data.json') as json_file:\n",
        "    apr_11 = json.load(json_file)\n",
        "apr_11"
      ],
      "execution_count": 8,
      "outputs": [
        {
          "output_type": "execute_result",
          "data": {
            "text/plain": [
              "{'n_sample': 3330,\n",
              " 'n_sens': 122,\n",
              " 'n_spec': 401,\n",
              " 'y_sample': 50,\n",
              " 'y_sens': 105,\n",
              " 'y_spec': 399}"
            ]
          },
          "metadata": {
            "tags": []
          },
          "execution_count": 8
        }
      ]
    },
    {
      "cell_type": "markdown",
      "metadata": {
        "id": "2vOK9GRzYK7J",
        "colab_type": "text"
      },
      "source": [
        "### Simple Model\n",
        "\n",
        "The first Stan model in this blogpost is called \"santaclara.stan\".  It a complete pooling model, therefore we'll call it \"pool_sens_spec.stan\"."
      ]
    },
    {
      "cell_type": "code",
      "metadata": {
        "id": "WsWXdSUWU9Pt",
        "colab_type": "code",
        "colab": {
          "base_uri": "https://localhost:8080/",
          "height": 429
        },
        "outputId": "e203b6d9-2b81-4962-b415-e9702a091095"
      },
      "source": [
        "!cat pool_sens_spec.stan"
      ],
      "execution_count": 9,
      "outputs": [
        {
          "output_type": "stream",
          "text": [
            "/**\n",
            " * meta-analysis over studies of disease infection rate \n",
            " * for variation in sensitivity and specificity\n",
            " * pool data from all studies\n",
            " */\n",
            "data {\n",
            "  int y_sample;\n",
            "  int n_sample;\n",
            "  int y_spec;\n",
            "  int n_spec;\n",
            "  int y_sens;\n",
            "  int n_sens;\n",
            "}\n",
            "parameters {\n",
            "  real<lower = 0, upper = 1> p;\n",
            "  real<lower = 0, upper = 1> spec;\n",
            "  real<lower = 0, upper = 1> sens;\n",
            "}\n",
            "model {\n",
            "  real p_sample;\n",
            "  p_sample = p * sens + (1 - p) * (1 - spec);\n",
            "  y_sample ~ binomial(n_sample, p_sample);\n",
            "  y_spec ~ binomial(n_spec, spec);\n",
            "  y_sens ~ binomial(n_sens, sens);\n",
            "}\n"
          ],
          "name": "stdout"
        }
      ]
    },
    {
      "cell_type": "markdown",
      "metadata": {
        "id": "lul55yiNY6IF",
        "colab_type": "text"
      },
      "source": [
        "We use CmdStanPy to compile and fit the model to the data."
      ]
    },
    {
      "cell_type": "code",
      "metadata": {
        "id": "N6WxoNTtY0oE",
        "colab_type": "code",
        "colab": {
          "base_uri": "https://localhost:8080/",
          "height": 198
        },
        "outputId": "35e07f4e-b3b1-4852-bba9-95294d6e2df4"
      },
      "source": [
        "pool_model = CmdStanModel(stan_file='pool_sens_spec.stan')\n",
        "apr_11_fit = pool_model.sample(data=apr_11)"
      ],
      "execution_count": 10,
      "outputs": [
        {
          "output_type": "stream",
          "text": [
            "INFO:cmdstanpy:compiling stan program, exe file: /content/pool_sens_spec\n",
            "INFO:cmdstanpy:compiler options: stanc_options=None, cpp_options=None\n",
            "INFO:cmdstanpy:compiled model file: /content/pool_sens_spec\n",
            "INFO:cmdstanpy:start chain 1\n",
            "INFO:cmdstanpy:finish chain 1\n",
            "INFO:cmdstanpy:start chain 2\n",
            "INFO:cmdstanpy:finish chain 2\n",
            "INFO:cmdstanpy:start chain 3\n",
            "INFO:cmdstanpy:finish chain 3\n",
            "INFO:cmdstanpy:start chain 4\n",
            "INFO:cmdstanpy:finish chain 4\n"
          ],
          "name": "stderr"
        }
      ]
    },
    {
      "cell_type": "markdown",
      "metadata": {
        "id": "JITCl_Ytazse",
        "colab_type": "text"
      },
      "source": [
        "CmdStanPy reports the central 90% interval, (following McElreath, 2016).  Given the April 11th dataset, this interval is [0.002 - 0.018], thus the data are consistent with an underlying infection rate of between 0 and 2%."
      ]
    },
    {
      "cell_type": "code",
      "metadata": {
        "id": "ZpJ9hFNeZSwW",
        "colab_type": "code",
        "colab": {
          "base_uri": "https://localhost:8080/",
          "height": 160
        },
        "outputId": "44e3e5c6-27fa-4fd8-e3c1-4b1f81da39d0"
      },
      "source": [
        "apr_11_fit.summary().round(decimals=3).iloc[1:4,:]"
      ],
      "execution_count": 11,
      "outputs": [
        {
          "output_type": "execute_result",
          "data": {
            "text/html": [
              "<div>\n",
              "<style scoped>\n",
              "    .dataframe tbody tr th:only-of-type {\n",
              "        vertical-align: middle;\n",
              "    }\n",
              "\n",
              "    .dataframe tbody tr th {\n",
              "        vertical-align: top;\n",
              "    }\n",
              "\n",
              "    .dataframe thead th {\n",
              "        text-align: right;\n",
              "    }\n",
              "</style>\n",
              "<table border=\"1\" class=\"dataframe\">\n",
              "  <thead>\n",
              "    <tr style=\"text-align: right;\">\n",
              "      <th></th>\n",
              "      <th>Mean</th>\n",
              "      <th>MCSE</th>\n",
              "      <th>StdDev</th>\n",
              "      <th>5%</th>\n",
              "      <th>50%</th>\n",
              "      <th>95%</th>\n",
              "      <th>N_Eff</th>\n",
              "      <th>N_Eff/s</th>\n",
              "      <th>R_hat</th>\n",
              "    </tr>\n",
              "    <tr>\n",
              "      <th>name</th>\n",
              "      <th></th>\n",
              "      <th></th>\n",
              "      <th></th>\n",
              "      <th></th>\n",
              "      <th></th>\n",
              "      <th></th>\n",
              "      <th></th>\n",
              "      <th></th>\n",
              "      <th></th>\n",
              "    </tr>\n",
              "  </thead>\n",
              "  <tbody>\n",
              "    <tr>\n",
              "      <th>p</th>\n",
              "      <td>0.010</td>\n",
              "      <td>0.000</td>\n",
              "      <td>0.004</td>\n",
              "      <td>0.002</td>\n",
              "      <td>0.011</td>\n",
              "      <td>0.017</td>\n",
              "      <td>1755.00</td>\n",
              "      <td>11404.0</td>\n",
              "      <td>1.000</td>\n",
              "    </tr>\n",
              "    <tr>\n",
              "      <th>spec</th>\n",
              "      <td>0.993</td>\n",
              "      <td>0.000</td>\n",
              "      <td>0.003</td>\n",
              "      <td>0.987</td>\n",
              "      <td>0.994</td>\n",
              "      <td>0.998</td>\n",
              "      <td>1623.10</td>\n",
              "      <td>10546.9</td>\n",
              "      <td>1.000</td>\n",
              "    </tr>\n",
              "    <tr>\n",
              "      <th>sens</th>\n",
              "      <td>0.854</td>\n",
              "      <td>0.001</td>\n",
              "      <td>0.031</td>\n",
              "      <td>0.800</td>\n",
              "      <td>0.856</td>\n",
              "      <td>0.901</td>\n",
              "      <td>2008.62</td>\n",
              "      <td>13052.0</td>\n",
              "      <td>1.002</td>\n",
              "    </tr>\n",
              "  </tbody>\n",
              "</table>\n",
              "</div>"
            ],
            "text/plain": [
              "       Mean   MCSE  StdDev     5%    50%    95%    N_Eff  N_Eff/s  R_hat\n",
              "name                                                                    \n",
              "p     0.010  0.000   0.004  0.002  0.011  0.017  1755.00  11404.0  1.000\n",
              "spec  0.993  0.000   0.003  0.987  0.994  0.998  1623.10  10546.9  1.000\n",
              "sens  0.854  0.001   0.031  0.800  0.856  0.901  2008.62  13052.0  1.002"
            ]
          },
          "metadata": {
            "tags": []
          },
          "execution_count": 11
        }
      ]
    },
    {
      "cell_type": "code",
      "metadata": {
        "id": "fXFR7goCZiRC",
        "colab_type": "code",
        "colab": {
          "base_uri": "https://localhost:8080/",
          "height": 282
        },
        "outputId": "9c58fe5a-1142-4ec3-cba2-3213621efc97"
      },
      "source": [
        "apr_11_drawset = apr_11_fit.get_drawset()\n",
        "apr_11_drawset.p.plot.hist()"
      ],
      "execution_count": 12,
      "outputs": [
        {
          "output_type": "execute_result",
          "data": {
            "text/plain": [
              "<matplotlib.axes._subplots.AxesSubplot at 0x7fb7e5dc5358>"
            ]
          },
          "metadata": {
            "tags": []
          },
          "execution_count": 12
        },
        {
          "output_type": "display_data",
          "data": {
            "image/png": "[encoded data removed]",
            "text/plain": [
              "<Figure size 432x288 with 1 Axes>"
            ]
          },
          "metadata": {
            "tags": [],
            "needs_background": "light"
          }
        }
      ]
    },
    {
      "cell_type": "markdown",
      "metadata": {
        "id": "1V8-wjzPd_7y",
        "colab_type": "text"
      },
      "source": [
        "We repeat this procedure with the data from the April 27th version of the study, which has specificity data from 13 studies and sensitivity data from 3 studies.  Again, we pool the results from all studies."
      ]
    },
    {
      "cell_type": "code",
      "metadata": {
        "id": "HOHzdMrwZldS",
        "colab_type": "code",
        "colab": {
          "base_uri": "https://localhost:8080/",
          "height": 115
        },
        "outputId": "cce8dfbe-ef10-4ea0-f506-3fff76acd258"
      },
      "source": [
        "apr_27 = {}\n",
        "with open('santa_clara_apr_11.data.json') as json_file:\n",
        "    apr_27 = json.load(json_file)\n",
        "apr_27"
      ],
      "execution_count": 13,
      "outputs": [
        {
          "output_type": "execute_result",
          "data": {
            "text/plain": [
              "{'n_sample': 3330,\n",
              " 'n_sens': 122,\n",
              " 'n_spec': 401,\n",
              " 'y_sample': 50,\n",
              " 'y_sens': 105,\n",
              " 'y_spec': 399}"
            ]
          },
          "metadata": {
            "tags": []
          },
          "execution_count": 13
        }
      ]
    },
    {
      "cell_type": "code",
      "metadata": {
        "id": "I-UGkEK1d-6j",
        "colab_type": "code",
        "colab": {
          "base_uri": "https://localhost:8080/",
          "height": 292
        },
        "outputId": "a57ed9ec-28f8-4eb6-b5c4-9f71231a1a12"
      },
      "source": [
        "apr_27_fit = pool_model.sample(data=apr_27)\n",
        "apr_27_fit.summary().round(decimals=3).iloc[1:4,:]\n"
      ],
      "execution_count": 14,
      "outputs": [
        {
          "output_type": "stream",
          "text": [
            "INFO:cmdstanpy:start chain 1\n",
            "INFO:cmdstanpy:finish chain 1\n",
            "INFO:cmdstanpy:start chain 2\n",
            "INFO:cmdstanpy:finish chain 2\n",
            "INFO:cmdstanpy:start chain 3\n",
            "INFO:cmdstanpy:finish chain 3\n",
            "INFO:cmdstanpy:start chain 4\n",
            "INFO:cmdstanpy:finish chain 4\n"
          ],
          "name": "stderr"
        },
        {
          "output_type": "execute_result",
          "data": {
            "text/html": [
              "<div>\n",
              "<style scoped>\n",
              "    .dataframe tbody tr th:only-of-type {\n",
              "        vertical-align: middle;\n",
              "    }\n",
              "\n",
              "    .dataframe tbody tr th {\n",
              "        vertical-align: top;\n",
              "    }\n",
              "\n",
              "    .dataframe thead th {\n",
              "        text-align: right;\n",
              "    }\n",
              "</style>\n",
              "<table border=\"1\" class=\"dataframe\">\n",
              "  <thead>\n",
              "    <tr style=\"text-align: right;\">\n",
              "      <th></th>\n",
              "      <th>Mean</th>\n",
              "      <th>MCSE</th>\n",
              "      <th>StdDev</th>\n",
              "      <th>5%</th>\n",
              "      <th>50%</th>\n",
              "      <th>95%</th>\n",
              "      <th>N_Eff</th>\n",
              "      <th>N_Eff/s</th>\n",
              "      <th>R_hat</th>\n",
              "    </tr>\n",
              "    <tr>\n",
              "      <th>name</th>\n",
              "      <th></th>\n",
              "      <th></th>\n",
              "      <th></th>\n",
              "      <th></th>\n",
              "      <th></th>\n",
              "      <th></th>\n",
              "      <th></th>\n",
              "      <th></th>\n",
              "      <th></th>\n",
              "    </tr>\n",
              "  </thead>\n",
              "  <tbody>\n",
              "    <tr>\n",
              "      <th>p</th>\n",
              "      <td>0.010</td>\n",
              "      <td>0.000</td>\n",
              "      <td>0.004</td>\n",
              "      <td>0.003</td>\n",
              "      <td>0.010</td>\n",
              "      <td>0.017</td>\n",
              "      <td>1469.87</td>\n",
              "      <td>9725.53</td>\n",
              "      <td>1.001</td>\n",
              "    </tr>\n",
              "    <tr>\n",
              "      <th>spec</th>\n",
              "      <td>0.993</td>\n",
              "      <td>0.000</td>\n",
              "      <td>0.003</td>\n",
              "      <td>0.987</td>\n",
              "      <td>0.994</td>\n",
              "      <td>0.998</td>\n",
              "      <td>1374.02</td>\n",
              "      <td>9091.35</td>\n",
              "      <td>1.002</td>\n",
              "    </tr>\n",
              "    <tr>\n",
              "      <th>sens</th>\n",
              "      <td>0.852</td>\n",
              "      <td>0.001</td>\n",
              "      <td>0.031</td>\n",
              "      <td>0.799</td>\n",
              "      <td>0.854</td>\n",
              "      <td>0.901</td>\n",
              "      <td>1849.13</td>\n",
              "      <td>12235.00</td>\n",
              "      <td>1.000</td>\n",
              "    </tr>\n",
              "  </tbody>\n",
              "</table>\n",
              "</div>"
            ],
            "text/plain": [
              "       Mean   MCSE  StdDev     5%    50%    95%    N_Eff   N_Eff/s  R_hat\n",
              "name                                                                     \n",
              "p     0.010  0.000   0.004  0.003  0.010  0.017  1469.87   9725.53  1.001\n",
              "spec  0.993  0.000   0.003  0.987  0.994  0.998  1374.02   9091.35  1.002\n",
              "sens  0.852  0.001   0.031  0.799  0.854  0.901  1849.13  12235.00  1.000"
            ]
          },
          "metadata": {
            "tags": []
          },
          "execution_count": 14
        }
      ]
    },
    {
      "cell_type": "code",
      "metadata": {
        "id": "1htb7q9Oeq8s",
        "colab_type": "code",
        "colab": {
          "base_uri": "https://localhost:8080/",
          "height": 282
        },
        "outputId": "2ee1c23e-a629-49f2-95a5-248923f09320"
      },
      "source": [
        "apr_27_drawset = apr_27_fit.get_drawset()\n",
        "apr_27_drawset.p.plot.hist()"
      ],
      "execution_count": 15,
      "outputs": [
        {
          "output_type": "execute_result",
          "data": {
            "text/plain": [
              "<matplotlib.axes._subplots.AxesSubplot at 0x7fb7e6b7a400>"
            ]
          },
          "metadata": {
            "tags": []
          },
          "execution_count": 15
        },
        {
          "output_type": "display_data",
          "data": {
            "image/png": "[encoded data removed]",
            "text/plain": [
              "<Figure size 432x288 with 1 Axes>"
            ]
          },
          "metadata": {
            "tags": [],
            "needs_background": "light"
          }
        }
      ]
    },
    {
      "cell_type": "markdown",
      "metadata": {
        "id": "XM8aWSpUfCy0",
        "colab_type": "text"
      },
      "source": [
        "### Hierarchical Model\n",
        "\n",
        "The hierarchical model allows the sensitivities and specificities to vary across studies.\n",
        "In the blogpost is called \"santaclara_hier.stan\".  We'll call it \"hier_sens_spec.stan\""
      ]
    },
    {
      "cell_type": "code",
      "metadata": {
        "id": "j_kxzeklezvI",
        "colab_type": "code",
        "colab": {
          "base_uri": "https://localhost:8080/",
          "height": 693
        },
        "outputId": "57a46c22-66fc-439c-ba41-06868d88ec5f"
      },
      "source": [
        "!cat hier_sens_spec.stan"
      ],
      "execution_count": 16,
      "outputs": [
        {
          "output_type": "stream",
          "text": [
            "/**\n",
            " * meta-analysis of disease infection rate studies\n",
            " * hierarchical model of sensitivity and specificity\n",
            " * non-centered parameterization\n",
            " */\n",
            "data {\n",
            "  int y_sample;\n",
            "  int n_sample;\n",
            "  int J_spec;\n",
            "  int y_spec [J_spec];\n",
            "  int n_spec [J_spec];\n",
            "  int J_sens;\n",
            "  int y_sens [J_sens];\n",
            "  int n_sens [J_sens];\n",
            "}\n",
            "parameters {\n",
            "  real<lower = 0, upper = 1> p;\n",
            "  real mu_spec;\n",
            "  real<lower = 0> sigma_spec;\n",
            "  real mu_sens;\n",
            "  real<lower = 0> sigma_sens;\n",
            "  vector[J_spec] e_spec;\n",
            "  vector[J_sens] e_sens;\n",
            "}\n",
            "transformed parameters {\n",
            "  vector[J_spec] spec;\n",
            "  vector[J_sens] sens;\n",
            "  spec = inv_logit(mu_spec + sigma_spec * e_spec);\n",
            "  sens = inv_logit(mu_sens + sigma_sens * e_sens);\n",
            "}\n",
            "model {\n",
            "  real p_sample;\n",
            "  p_sample = p * sens[1] + (1 - p) * (1 - spec[1]);\n",
            "  y_sample ~ binomial(n_sample, p_sample);\n",
            "  y_spec ~ binomial(n_spec, spec);\n",
            "  y_sens ~ binomial(n_sens, sens);\n",
            "  e_spec ~ normal(0, 1);\n",
            "  e_sens ~ normal(0, 1);\n",
            "  sigma_spec ~ normal(0, 1);\n",
            "  sigma_sens ~ normal(0, 0.2);\n",
            "}\n"
          ],
          "name": "stdout"
        }
      ]
    },
    {
      "cell_type": "markdown",
      "metadata": {
        "id": "0FstmbADhwDl",
        "colab_type": "text"
      },
      "source": [
        "__Note__: this model has the suggested tight prior on `sigma_sens` in order to compensate for only having data from 3 studies to fit."
      ]
    },
    {
      "cell_type": "markdown",
      "metadata": {
        "id": "dkEXV2VhgIwf",
        "colab_type": "text"
      },
      "source": [
        "For this model, the data is broken out by study.  We copied this data out of page 19 of the report and munged it into the forms required by the model's data block variable definitions."
      ]
    },
    {
      "cell_type": "code",
      "metadata": {
        "id": "z1WhQ8K3f6tP",
        "colab_type": "code",
        "colab": {
          "base_uri": "https://localhost:8080/",
          "height": 148
        },
        "outputId": "0a57a9d2-a265-4d40-86d0-cd70a4491600"
      },
      "source": [
        "hier_data = {}\n",
        "with open('santa_clara_all.data.json') as json_file:\n",
        "    hier_data = json.load(json_file)\n",
        "hier_data"
      ],
      "execution_count": 17,
      "outputs": [
        {
          "output_type": "execute_result",
          "data": {
            "text/plain": [
              "{'J_sens': 4,\n",
              " 'J_spec': 14,\n",
              " 'n_sample': 3330,\n",
              " 'n_sens': [0, 85, 37, 35],\n",
              " 'n_spec': [0, 371, 30, 70, 1102, 300, 311, 500, 200, 99, 31, 150, 108, 52],\n",
              " 'y_sample': 50,\n",
              " 'y_sens': [0, 78, 27, 25],\n",
              " 'y_spec': [0, 368, 30, 70, 1102, 300, 311, 500, 198, 99, 29, 146, 105, 50]}"
            ]
          },
          "metadata": {
            "tags": []
          },
          "execution_count": 17
        }
      ]
    },
    {
      "cell_type": "code",
      "metadata": {
        "id": "yRkkjERag-_J",
        "colab_type": "code",
        "colab": {
          "base_uri": "https://localhost:8080/",
          "height": 198
        },
        "outputId": "a1f31645-7f6a-4dd8-81b6-5d05568e24e0"
      },
      "source": [
        "hier_model = CmdStanModel(stan_file='hier_sens_spec.stan')\n",
        "hier_fit = hier_model.sample(data=hier_data)"
      ],
      "execution_count": 18,
      "outputs": [
        {
          "output_type": "stream",
          "text": [
            "INFO:cmdstanpy:compiling stan program, exe file: /content/hier_sens_spec\n",
            "INFO:cmdstanpy:compiler options: stanc_options=None, cpp_options=None\n",
            "INFO:cmdstanpy:compiled model file: /content/hier_sens_spec\n",
            "INFO:cmdstanpy:start chain 1\n",
            "INFO:cmdstanpy:finish chain 1\n",
            "INFO:cmdstanpy:start chain 2\n",
            "INFO:cmdstanpy:finish chain 2\n",
            "INFO:cmdstanpy:start chain 3\n",
            "INFO:cmdstanpy:finish chain 3\n",
            "INFO:cmdstanpy:start chain 4\n",
            "INFO:cmdstanpy:finish chain 4\n"
          ],
          "name": "stderr"
        }
      ]
    },
    {
      "cell_type": "code",
      "metadata": {
        "id": "srm_Q95ahPlZ",
        "colab_type": "code",
        "colab": {
          "base_uri": "https://localhost:8080/",
          "height": 217
        },
        "outputId": "708da3d8-48ea-4e57-f65a-868462ad6369"
      },
      "source": [
        "hier_fit.summary().loc[['p', 'mu_spec', 'sigma_spec', 'mu_sens', 'sigma_sens'],].round(decimals=3)"
      ],
      "execution_count": 19,
      "outputs": [
        {
          "output_type": "execute_result",
          "data": {
            "text/html": [
              "<div>\n",
              "<style scoped>\n",
              "    .dataframe tbody tr th:only-of-type {\n",
              "        vertical-align: middle;\n",
              "    }\n",
              "\n",
              "    .dataframe tbody tr th {\n",
              "        vertical-align: top;\n",
              "    }\n",
              "\n",
              "    .dataframe thead th {\n",
              "        text-align: right;\n",
              "    }\n",
              "</style>\n",
              "<table border=\"1\" class=\"dataframe\">\n",
              "  <thead>\n",
              "    <tr style=\"text-align: right;\">\n",
              "      <th></th>\n",
              "      <th>Mean</th>\n",
              "      <th>MCSE</th>\n",
              "      <th>StdDev</th>\n",
              "      <th>5%</th>\n",
              "      <th>50%</th>\n",
              "      <th>95%</th>\n",
              "      <th>N_Eff</th>\n",
              "      <th>N_Eff/s</th>\n",
              "      <th>R_hat</th>\n",
              "    </tr>\n",
              "    <tr>\n",
              "      <th>name</th>\n",
              "      <th></th>\n",
              "      <th></th>\n",
              "      <th></th>\n",
              "      <th></th>\n",
              "      <th></th>\n",
              "      <th></th>\n",
              "      <th></th>\n",
              "      <th></th>\n",
              "      <th></th>\n",
              "    </tr>\n",
              "  </thead>\n",
              "  <tbody>\n",
              "    <tr>\n",
              "      <th>p</th>\n",
              "      <td>0.015</td>\n",
              "      <td>0.000</td>\n",
              "      <td>0.005</td>\n",
              "      <td>0.005</td>\n",
              "      <td>0.015</td>\n",
              "      <td>0.022</td>\n",
              "      <td>1360.56</td>\n",
              "      <td>2236.33</td>\n",
              "      <td>1.004</td>\n",
              "    </tr>\n",
              "    <tr>\n",
              "      <th>mu_spec</th>\n",
              "      <td>5.753</td>\n",
              "      <td>0.021</td>\n",
              "      <td>0.679</td>\n",
              "      <td>4.748</td>\n",
              "      <td>5.697</td>\n",
              "      <td>6.961</td>\n",
              "      <td>1056.35</td>\n",
              "      <td>1736.31</td>\n",
              "      <td>1.004</td>\n",
              "    </tr>\n",
              "    <tr>\n",
              "      <th>sigma_spec</th>\n",
              "      <td>1.698</td>\n",
              "      <td>0.013</td>\n",
              "      <td>0.495</td>\n",
              "      <td>0.979</td>\n",
              "      <td>1.644</td>\n",
              "      <td>2.622</td>\n",
              "      <td>1541.31</td>\n",
              "      <td>2533.44</td>\n",
              "      <td>1.001</td>\n",
              "    </tr>\n",
              "    <tr>\n",
              "      <th>mu_sens</th>\n",
              "      <td>1.503</td>\n",
              "      <td>0.005</td>\n",
              "      <td>0.284</td>\n",
              "      <td>1.044</td>\n",
              "      <td>1.503</td>\n",
              "      <td>1.952</td>\n",
              "      <td>2970.97</td>\n",
              "      <td>4883.34</td>\n",
              "      <td>1.000</td>\n",
              "    </tr>\n",
              "    <tr>\n",
              "      <th>sigma_sens</th>\n",
              "      <td>0.268</td>\n",
              "      <td>0.003</td>\n",
              "      <td>0.142</td>\n",
              "      <td>0.041</td>\n",
              "      <td>0.265</td>\n",
              "      <td>0.513</td>\n",
              "      <td>1988.68</td>\n",
              "      <td>3268.76</td>\n",
              "      <td>1.001</td>\n",
              "    </tr>\n",
              "  </tbody>\n",
              "</table>\n",
              "</div>"
            ],
            "text/plain": [
              "             Mean   MCSE  StdDev     5%    50%    95%    N_Eff  N_Eff/s  R_hat\n",
              "name                                                                          \n",
              "p           0.015  0.000   0.005  0.005  0.015  0.022  1360.56  2236.33  1.004\n",
              "mu_spec     5.753  0.021   0.679  4.748  5.697  6.961  1056.35  1736.31  1.004\n",
              "sigma_spec  1.698  0.013   0.495  0.979  1.644  2.622  1541.31  2533.44  1.001\n",
              "mu_sens     1.503  0.005   0.284  1.044  1.503  1.952  2970.97  4883.34  1.000\n",
              "sigma_sens  0.268  0.003   0.142  0.041  0.265  0.513  1988.68  3268.76  1.001"
            ]
          },
          "metadata": {
            "tags": []
          },
          "execution_count": 19
        }
      ]
    },
    {
      "cell_type": "markdown",
      "metadata": {
        "id": "sAD1MVohig5F",
        "colab_type": "text"
      },
      "source": [
        "This central 90% interval is [0.005 - 0.022]."
      ]
    },
    {
      "cell_type": "code",
      "metadata": {
        "id": "df24B145heQY",
        "colab_type": "code",
        "colab": {
          "base_uri": "https://localhost:8080/",
          "height": 282
        },
        "outputId": "522fd5c2-5254-4028-dac0-b1765855c565"
      },
      "source": [
        "hier_drawset = hier_fit.get_drawset()\n",
        "hier_drawset.p.plot.hist(bins=20,range=(0.0,0.03),density=True)"
      ],
      "execution_count": 20,
      "outputs": [
        {
          "output_type": "execute_result",
          "data": {
            "text/plain": [
              "<matplotlib.axes._subplots.AxesSubplot at 0x7fb7e66c19e8>"
            ]
          },
          "metadata": {
            "tags": []
          },
          "execution_count": 20
        },
        {
          "output_type": "display_data",
          "data": {
            "image/png": "[encoded data removed]",
            "text/plain": [
              "<Figure size 432x288 with 1 Axes>"
            ]
          },
          "metadata": {
            "tags": [],
            "needs_background": "light"
          }
        }
      ]
    },
    {
      "cell_type": "markdown",
      "metadata": {
        "id": "JXtqYRjPi-V1",
        "colab_type": "text"
      },
      "source": [
        "Bob Carpenter provided a second version of the hierarchical model in which the parameters for the item-level specificities and sensitivies are specified using the Stan language \"offset, multiplier\" syntax which allows for affine transforms on real-valued variables.  See the Stan Language Reference Manual, chapter [Univariate Data Types and Variable Declarations](https://mc-stan.org/docs/2_23/reference-manual/univariate-data-types-and-variable-declarations.html) for further details. We call this model \"hier_sens_spec_offset_mult.stan\"\n"
      ]
    },
    {
      "cell_type": "code",
      "metadata": {
        "id": "4WN9IQVTi7sf",
        "colab_type": "code",
        "colab": {
          "base_uri": "https://localhost:8080/",
          "height": 627
        },
        "outputId": "1b8d5ed0-1215-4800-b96b-8d8b23575845"
      },
      "source": [
        "!cat hier_sens_spec_offset_mult.stan"
      ],
      "execution_count": 21,
      "outputs": [
        {
          "output_type": "stream",
          "text": [
            "/**\n",
            " * meta-analysis of disease infection rate studies\n",
            " * hierarchical model of sensitivity and specificity\n",
            " */\n",
            "data {\n",
            "  int y_sample;  // for j = 1\n",
            "  int n_sample;  // for j = 1\n",
            "  int J_spec;\n",
            "  int y_spec [J_spec];  // no samples for j > 1\n",
            "  int n_spec [J_spec];\n",
            "  int J_sens;\n",
            "  int y_sens [J_sens];  // no samples for j > 1\n",
            "  int n_sens [J_sens];\n",
            "}\n",
            "parameters {\n",
            "  real<lower = 0, upper = 1> p;\n",
            "  real mu_logit_spec;\n",
            "  real<lower = 0> sigma_logit_spec;\n",
            "  real mu_logit_sens;\n",
            "  real<lower = 0> sigma_logit_sens;\n",
            "  vector<offset = mu_logit_spec, multiplier = sigma_logit_spec>[J_spec] logit_spec;\n",
            "  vector<offset = mu_logit_sens, multiplier = sigma_logit_sens>[J_sens] logit_sens;\n",
            "}\n",
            "transformed parameters {\n",
            "  vector<lower = 0, upper = 1>[J_spec] spec = inv_logit(logit_spec);\n",
            "  vector<lower = 0, upper = 1>[J_sens] sens = inv_logit(logit_sens);\n",
            "}\n",
            "model {\n",
            "  real p_sample = p * sens[1] + (1 - p) * (1 - spec[1]);  // j = 1\n",
            "  y_sample ~ binomial(n_sample, p_sample);                // j = 1\n",
            "  y_spec ~ binomial_logit(n_spec, logit_spec);\n",
            "  y_sens ~ binomial_logit(n_sens, logit_sens);\n",
            "  logit_spec ~ normal(mu_logit_spec, sigma_logit_spec);\n",
            "  logit_sens ~ normal(mu_logit_sens, sigma_logit_sens);\n",
            "  sigma_logit_spec ~ normal(0, 1);\n",
            "  sigma_logit_sens ~ normal(0, 0.2);\n",
            "}\n"
          ],
          "name": "stdout"
        }
      ]
    },
    {
      "cell_type": "code",
      "metadata": {
        "id": "Q6nNFkrFlJ3u",
        "colab_type": "code",
        "colab": {
          "base_uri": "https://localhost:8080/",
          "height": 399
        },
        "outputId": "589cb035-ae86-4dd4-e07b-3906bd847646"
      },
      "source": [
        "hier_model_v2 = CmdStanModel(stan_file='hier_sens_spec_offset_mult.stan')\n",
        "hier_fit_v2 = hier_model_v2.sample(data=hier_data)\n",
        "hier_fit_v2.summary().loc[['p', 'mu_logit_spec', 'sigma_logit_spec', 'mu_logit_sens', 'sigma_logit_sens'],].round(decimals=3)"
      ],
      "execution_count": 22,
      "outputs": [
        {
          "output_type": "stream",
          "text": [
            "INFO:cmdstanpy:compiling stan program, exe file: /content/hier_sens_spec_offset_mult\n",
            "INFO:cmdstanpy:compiler options: stanc_options=None, cpp_options=None\n",
            "INFO:cmdstanpy:compiled model file: /content/hier_sens_spec_offset_mult\n",
            "INFO:cmdstanpy:start chain 1\n",
            "INFO:cmdstanpy:finish chain 1\n",
            "INFO:cmdstanpy:start chain 2\n",
            "INFO:cmdstanpy:finish chain 2\n",
            "INFO:cmdstanpy:start chain 3\n",
            "INFO:cmdstanpy:finish chain 3\n",
            "INFO:cmdstanpy:start chain 4\n",
            "INFO:cmdstanpy:finish chain 4\n"
          ],
          "name": "stderr"
        },
        {
          "output_type": "execute_result",
          "data": {
            "text/html": [
              "<div>\n",
              "<style scoped>\n",
              "    .dataframe tbody tr th:only-of-type {\n",
              "        vertical-align: middle;\n",
              "    }\n",
              "\n",
              "    .dataframe tbody tr th {\n",
              "        vertical-align: top;\n",
              "    }\n",
              "\n",
              "    .dataframe thead th {\n",
              "        text-align: right;\n",
              "    }\n",
              "</style>\n",
              "<table border=\"1\" class=\"dataframe\">\n",
              "  <thead>\n",
              "    <tr style=\"text-align: right;\">\n",
              "      <th></th>\n",
              "      <th>Mean</th>\n",
              "      <th>MCSE</th>\n",
              "      <th>StdDev</th>\n",
              "      <th>5%</th>\n",
              "      <th>50%</th>\n",
              "      <th>95%</th>\n",
              "      <th>N_Eff</th>\n",
              "      <th>N_Eff/s</th>\n",
              "      <th>R_hat</th>\n",
              "    </tr>\n",
              "    <tr>\n",
              "      <th>name</th>\n",
              "      <th></th>\n",
              "      <th></th>\n",
              "      <th></th>\n",
              "      <th></th>\n",
              "      <th></th>\n",
              "      <th></th>\n",
              "      <th></th>\n",
              "      <th></th>\n",
              "      <th></th>\n",
              "    </tr>\n",
              "  </thead>\n",
              "  <tbody>\n",
              "    <tr>\n",
              "      <th>p</th>\n",
              "      <td>0.014</td>\n",
              "      <td>0.000</td>\n",
              "      <td>0.006</td>\n",
              "      <td>0.003</td>\n",
              "      <td>0.015</td>\n",
              "      <td>0.022</td>\n",
              "      <td>395.382</td>\n",
              "      <td>456.989</td>\n",
              "      <td>1.006</td>\n",
              "    </tr>\n",
              "    <tr>\n",
              "      <th>mu_logit_spec</th>\n",
              "      <td>5.725</td>\n",
              "      <td>0.017</td>\n",
              "      <td>0.654</td>\n",
              "      <td>4.789</td>\n",
              "      <td>5.647</td>\n",
              "      <td>6.937</td>\n",
              "      <td>1412.200</td>\n",
              "      <td>1632.240</td>\n",
              "      <td>1.001</td>\n",
              "    </tr>\n",
              "    <tr>\n",
              "      <th>sigma_logit_spec</th>\n",
              "      <td>1.705</td>\n",
              "      <td>0.016</td>\n",
              "      <td>0.490</td>\n",
              "      <td>0.984</td>\n",
              "      <td>1.659</td>\n",
              "      <td>2.603</td>\n",
              "      <td>945.136</td>\n",
              "      <td>1092.400</td>\n",
              "      <td>1.005</td>\n",
              "    </tr>\n",
              "    <tr>\n",
              "      <th>mu_logit_sens</th>\n",
              "      <td>1.494</td>\n",
              "      <td>0.006</td>\n",
              "      <td>0.284</td>\n",
              "      <td>1.013</td>\n",
              "      <td>1.505</td>\n",
              "      <td>1.949</td>\n",
              "      <td>2286.670</td>\n",
              "      <td>2642.970</td>\n",
              "      <td>1.001</td>\n",
              "    </tr>\n",
              "    <tr>\n",
              "      <th>sigma_logit_sens</th>\n",
              "      <td>0.272</td>\n",
              "      <td>0.003</td>\n",
              "      <td>0.143</td>\n",
              "      <td>0.041</td>\n",
              "      <td>0.269</td>\n",
              "      <td>0.508</td>\n",
              "      <td>1920.740</td>\n",
              "      <td>2220.020</td>\n",
              "      <td>1.000</td>\n",
              "    </tr>\n",
              "  </tbody>\n",
              "</table>\n",
              "</div>"
            ],
            "text/plain": [
              "                   Mean   MCSE  StdDev     5%  ...    95%     N_Eff   N_Eff/s  R_hat\n",
              "name                                           ...                                  \n",
              "p                 0.014  0.000   0.006  0.003  ...  0.022   395.382   456.989  1.006\n",
              "mu_logit_spec     5.725  0.017   0.654  4.789  ...  6.937  1412.200  1632.240  1.001\n",
              "sigma_logit_spec  1.705  0.016   0.490  0.984  ...  2.603   945.136  1092.400  1.005\n",
              "mu_logit_sens     1.494  0.006   0.284  1.013  ...  1.949  2286.670  2642.970  1.001\n",
              "sigma_logit_sens  0.272  0.003   0.143  0.041  ...  0.508  1920.740  2220.020  1.000\n",
              "\n",
              "[5 rows x 9 columns]"
            ]
          },
          "metadata": {
            "tags": []
          },
          "execution_count": 22
        }
      ]
    },
    {
      "cell_type": "code",
      "metadata": {
        "id": "xJ9tfSTBladB",
        "colab_type": "code",
        "colab": {
          "base_uri": "https://localhost:8080/",
          "height": 282
        },
        "outputId": "637b6359-d2c2-4c46-993e-37c2124e8ed8"
      },
      "source": [
        "hier_drawset_v2 = hier_fit_v2.get_drawset()\n",
        "hier_drawset_v2.p.plot.hist(bins=20,range=(0.0,0.03),density=True)"
      ],
      "execution_count": 23,
      "outputs": [
        {
          "output_type": "execute_result",
          "data": {
            "text/plain": [
              "<matplotlib.axes._subplots.AxesSubplot at 0x7fb7e661e908>"
            ]
          },
          "metadata": {
            "tags": []
          },
          "execution_count": 23
        },
        {
          "output_type": "display_data",
          "data": {
            "image/png": "[encoded data removed]",
            "text/plain": [
              "<Figure size 432x288 with 1 Axes>"
            ]
          },
          "metadata": {
            "tags": [],
            "needs_background": "light"
          }
        }
      ]
    },
    {
      "cell_type": "code",
      "metadata": {
        "id": "nZh7IS4fl8VM",
        "colab_type": "code",
        "colab": {}
      },
      "source": [
        ""
      ],
      "execution_count": 0,
      "outputs": []
    }
  ]
}