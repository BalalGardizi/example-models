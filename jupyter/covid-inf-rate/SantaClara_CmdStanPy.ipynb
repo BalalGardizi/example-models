{
  "nbformat": 4,
  "nbformat_minor": 0,
  "metadata": {
    "colab": {
      "name": "SantaClara_CmdStanPy.ipynb",
      "provenance": [],
      "collapsed_sections": [],
      "authorship_tag": "ABX9TyP1qp4Pz0RYyhyHbU2sndH9",
      "include_colab_link": true
    },
    "kernelspec": {
      "name": "python3",
      "display_name": "Python 3"
    }
  },
  "cells": [
    {
      "cell_type": "markdown",
      "metadata": {
        "id": "view-in-github",
        "colab_type": "text"
      },
      "source": [
        "<a href=\"https://colab.research.google.com/github/stan-dev/example-models/blob/feature%2Fjupyter-notebooks/jupyter/covid-inf-rate/SantaClara_CmdStanPy.ipynb\" target=\"_parent\"><img src=\"https://colab.research.google.com/assets/colab-badge.svg\" alt=\"Open In Colab\"/></a>"
      ]
    },
    {
      "cell_type": "markdown",
      "metadata": {
        "id": "PRpyEjTGMvGJ",
        "colab_type": "text"
      },
      "source": [
        "# Simple Bayesian analysis inference of coronavirus infection rate from the Stanford study in Santa Clara county\n",
        "\n",
        "This Google Colab Python notebook provides the models and data discussed here:  [Simple Bayesian analysis inference of coronavirus infection rate from the Stanford study in Santa Clara county](https://statmodeling.stat.columbia.edu/2020/05/01/simple-bayesian-analysis-inference-of-coronavirus-infection-rate-from-the-stanford-study-in-santa-clara-county/)\n",
        "\n",
        "It uses CmdStanPy to compile and fit the model, and matplot lib for simple visualizations.  \n",
        "\n",
        "\n",
        "#### First up, a little admin to get the latest CmdStanPy and CmdStan installed on this instance.\n"
      ]
    },
    {
      "cell_type": "code",
      "metadata": {
        "id": "_PhuUXhaLk2o",
        "colab_type": "code",
        "colab": {}
      },
      "source": [
        "# Load packages used in this notebook\n",
        "import os\n",
        "import json\n",
        "import shutil\n",
        "import urllib.request\n",
        "import pandas as pd"
      ],
      "execution_count": 0,
      "outputs": []
    },
    {
      "cell_type": "code",
      "metadata": {
        "id": "XjVPUpT7U5DA",
        "colab_type": "code",
        "colab": {}
      },
      "source": [
        "# Please use the latest version of CmdStanPy\n",
        "pip install --upgrade cmdstanpy"
      ],
      "execution_count": 0,
      "outputs": []
    },
    {
      "cell_type": "code",
      "metadata": {
        "id": "csMJH1d6Euvg",
        "colab_type": "code",
        "colab": {}
      },
      "source": [
        "# Install pre-built CmdStan binary\n",
        "# (faster than compiling from source via install_cmdstan() function)\n",
        "tgz_file = 'colab-cmdstan-2-23-0.tgz'\n",
        "tgz_url = 'https://github.com/stan-dev/cmdstan/releases/download/v2.23.0/colab-cmdstan-2-23.0.tgz'\n",
        "if not os.path.exists(tgz_file):\n",
        "    urllib.request.urlretrieve(tgz_url, tgz_file)\n",
        "    shutil.unpack_archive(tgz_file)"
      ],
      "execution_count": 0,
      "outputs": []
    },
    {
      "cell_type": "code",
      "metadata": {
        "id": "poxkQLCAFYt2",
        "colab_type": "code",
        "colab": {}
      },
      "source": [
        "# Specify CmdStan location via environment variable\n",
        "os.environ['CMDSTAN'] = './cmdstan-2.23.0'\n",
        "# Check CmdStan path\n",
        "from cmdstanpy import CmdStanModel, cmdstan_path\n",
        "cmdstan_path()"
      ],
      "execution_count": 0,
      "outputs": []
    },
    {
      "cell_type": "markdown",
      "metadata": {
        "id": "yQS1YxCjOAIk",
        "colab_type": "text"
      },
      "source": [
        "The models and data are available on the Stan GitHub repo https://github.com/stan-dev/example-models/tree/feature/jupyter-notebooks/jupyter/covid-inf-rate"
      ]
    },
    {
      "cell_type": "code",
      "metadata": {
        "id": "p471RApxEBtR",
        "colab_type": "code",
        "colab": {
          "base_uri": "https://localhost:8080/",
          "height": 330
        },
        "outputId": "1137878d-0ec8-45b1-8573-284b98d8af52"
      },
      "source": [
        "# Upload models and data onto this instance (raw github content files)\n",
        "urllib.request.urlretrieve('https://raw.githubusercontent.com/stan-dev/example-models/feature/jupyter-notebooks/jupyter/covid-inf-rate/data/santa_clara_all.data.json', 'santa_clara_all.data.json')\n",
        "urllib.request.urlretrieve('https://raw.githubusercontent.com/stan-dev/example-models/feature/jupyter-notebooks/jupyter/covid-inf-rate/data/santa_clara_apr_11.data.json', 'santa_clara_apr_11.data.json')\n",
        "urllib.request.urlretrieve('https://raw.githubusercontent.com/stan-dev/example-models/feature/jupyter-notebooks/jupyter/covid-inf-rate/data/santa_clara_apr_27.data.json', 'santa_clara_apr_27.data.json')\n",
        "urllib.request.urlretrieve('https://raw.githubusercontent.com/stan-dev/example-models/feature/jupyter-notebooks/jupyter/covid-inf-rate/stan/pool_sens_spec.stan', 'pool_sens_spec.stan')\n",
        "urllib.request.urlretrieve('https://raw.githubusercontent.com/stan-dev/example-models/feature/jupyter-notebooks/jupyter/covid-inf-rate/stan/hier_sens_spec.stan', 'hier_sens_spec.stan')\n",
        "urllib.request.urlretrieve('https://raw.githubusercontent.com/stan-dev/example-models/feature/jupyter-notebooks/jupyter/covid-inf-rate/stan/hier_sens_spec_offset_mult.stan', 'hier_sens_spec_offset_mult.stan')\n",
        "!ls\n",
        "!echo \"\"\n",
        "!echo \"santa_clara_apr_11.data.json:\"\n",
        "!cat santa_clara_apr_11.data.json"
      ],
      "execution_count": 37,
      "outputs": [
        {
          "output_type": "stream",
          "text": [
            "cmdstan-2.23.0\t\t\t pool_sens_spec\n",
            "colab-cmdstan-2-23-0.tgz\t pool_sens_spec.d\n",
            "hier_sens_spec\t\t\t pool_sens_spec.hpp\n",
            "hier_sens_spec.d\t\t pool_sens_spec.o\n",
            "hier_sens_spec.hpp\t\t pool_sens_spec.stan\n",
            "hier_sens_spec_mult_offset.stan  sample_data\n",
            "hier_sens_spec.o\t\t santa_clara_all.data.json\n",
            "hier_sens_spec_offset_mult.stan  santa_clara_apr_11.data.json\n",
            "hier_sens_spec.stan\t\t santa_clara_apr_27.data.json\n",
            "\n",
            "santa_clara_apr_11.data.json:\n",
            "{\n",
            "    \"y_sample\" : 50,\n",
            "    \"n_sample\" : 3330,\n",
            "    \"y_spec\" : 399,\n",
            "    \"n_spec\" : 401,\n",
            "    \"y_sens\" : 105,\n",
            "    \"n_sens\" : 122\n",
            "}\n"
          ],
          "name": "stdout"
        }
      ]
    },
    {
      "cell_type": "markdown",
      "metadata": {
        "id": "GMUDMOh_WvQD",
        "colab_type": "text"
      },
      "source": [
        "In the Santa Clara study, of the 3330 people tested (`n_sample`), 50 test results were positive (`y_sample`).  The first version of the paper was released on April 11th, and used specificity data from two studies and sensitivity data from two other studies."
      ]
    },
    {
      "cell_type": "code",
      "metadata": {
        "id": "vjcmosNlULIe",
        "colab_type": "code",
        "colab": {}
      },
      "source": [
        "apr_11 = {}\n",
        "with open('santa_clara_apr_11.data.json') as json_file:\n",
        "    apr_11 = json.load(json_file)\n",
        "apr_11"
      ],
      "execution_count": 0,
      "outputs": []
    },
    {
      "cell_type": "markdown",
      "metadata": {
        "id": "2vOK9GRzYK7J",
        "colab_type": "text"
      },
      "source": [
        "The first Stan model in this blogpost is called \"santaclara.stan\".  It a complete pooling model, therefore we'll call it \"pool_sens_spec.stan\"."
      ]
    },
    {
      "cell_type": "code",
      "metadata": {
        "id": "WsWXdSUWU9Pt",
        "colab_type": "code",
        "colab": {}
      },
      "source": [
        "!cat pool_sens_spec.stan"
      ],
      "execution_count": 0,
      "outputs": []
    },
    {
      "cell_type": "markdown",
      "metadata": {
        "id": "lul55yiNY6IF",
        "colab_type": "text"
      },
      "source": [
        "We use CmdStanPy to compile and fit the model to the data, and pandas to visualize the fitted estimates."
      ]
    },
    {
      "cell_type": "code",
      "metadata": {
        "id": "N6WxoNTtY0oE",
        "colab_type": "code",
        "colab": {}
      },
      "source": [
        "pool_model = CmdStanModel(stan_file='pool_sens_spec.stan')\n",
        "apr_11_fit = pool_model.sample(data=apr_11)"
      ],
      "execution_count": 0,
      "outputs": []
    },
    {
      "cell_type": "markdown",
      "metadata": {
        "id": "JITCl_Ytazse",
        "colab_type": "text"
      },
      "source": [
        "CmdStanPy reports the central 90% interval, (following McElreath, 2016).  Given the April 11th dataset, this interval is [0.002 - 0.018], thus the data are consistent with an underlying infection rate of between 0 and 2%."
      ]
    },
    {
      "cell_type": "code",
      "metadata": {
        "id": "ZpJ9hFNeZSwW",
        "colab_type": "code",
        "colab": {}
      },
      "source": [
        "apr_11_fit.summary().round(decimals=3).iloc[1:4,:]"
      ],
      "execution_count": 0,
      "outputs": []
    },
    {
      "cell_type": "code",
      "metadata": {
        "id": "fXFR7goCZiRC",
        "colab_type": "code",
        "colab": {}
      },
      "source": [
        "apr_11_drawset = apr_11_fit.get_drawset()\n",
        "apr_11_drawset.p.plot.hist()"
      ],
      "execution_count": 0,
      "outputs": []
    },
    {
      "cell_type": "markdown",
      "metadata": {
        "id": "1V8-wjzPd_7y",
        "colab_type": "text"
      },
      "source": [
        "We repeat this procedure with the data from the April 27th version of the study, which has specificity data from 13 studies and sensitivity data from 3 studies.  Again, we pool the results from all studies."
      ]
    },
    {
      "cell_type": "code",
      "metadata": {
        "id": "HOHzdMrwZldS",
        "colab_type": "code",
        "colab": {
          "base_uri": "https://localhost:8080/",
          "height": 115
        },
        "outputId": "133657ce-e5d3-4b2f-e536-df1c0b5879a3"
      },
      "source": [
        "apr_27 = {}\n",
        "with open('santa_clara_apr_11.data.json') as json_file:\n",
        "    apr_27 = json.load(json_file)\n",
        "apr_27"
      ],
      "execution_count": 28,
      "outputs": [
        {
          "output_type": "execute_result",
          "data": {
            "text/plain": [
              "{'n_sample': 3330,\n",
              " 'n_sens': 122,\n",
              " 'n_spec': 401,\n",
              " 'y_sample': 50,\n",
              " 'y_sens': 105,\n",
              " 'y_spec': 399}"
            ]
          },
          "metadata": {
            "tags": []
          },
          "execution_count": 28
        }
      ]
    },
    {
      "cell_type": "code",
      "metadata": {
        "id": "I-UGkEK1d-6j",
        "colab_type": "code",
        "colab": {
          "base_uri": "https://localhost:8080/",
          "height": 292
        },
        "outputId": "b922bdce-1883-483b-a2ab-e428d6219ad7"
      },
      "source": [
        "apr_27_fit = pool_model.sample(data=apr_27)\n",
        "apr_27_fit.summary().round(decimals=3).iloc[1:4,:]\n"
      ],
      "execution_count": 29,
      "outputs": [
        {
          "output_type": "stream",
          "text": [
            "INFO:cmdstanpy:start chain 1\n",
            "INFO:cmdstanpy:finish chain 1\n",
            "INFO:cmdstanpy:start chain 2\n",
            "INFO:cmdstanpy:finish chain 2\n",
            "INFO:cmdstanpy:start chain 3\n",
            "INFO:cmdstanpy:finish chain 3\n",
            "INFO:cmdstanpy:start chain 4\n",
            "INFO:cmdstanpy:finish chain 4\n"
          ],
          "name": "stderr"
        },
        {
          "output_type": "execute_result",
          "data": {
            "text/html": [
              "<div>\n",
              "<style scoped>\n",
              "    .dataframe tbody tr th:only-of-type {\n",
              "        vertical-align: middle;\n",
              "    }\n",
              "\n",
              "    .dataframe tbody tr th {\n",
              "        vertical-align: top;\n",
              "    }\n",
              "\n",
              "    .dataframe thead th {\n",
              "        text-align: right;\n",
              "    }\n",
              "</style>\n",
              "<table border=\"1\" class=\"dataframe\">\n",
              "  <thead>\n",
              "    <tr style=\"text-align: right;\">\n",
              "      <th></th>\n",
              "      <th>Mean</th>\n",
              "      <th>MCSE</th>\n",
              "      <th>StdDev</th>\n",
              "      <th>5%</th>\n",
              "      <th>50%</th>\n",
              "      <th>95%</th>\n",
              "      <th>N_Eff</th>\n",
              "      <th>N_Eff/s</th>\n",
              "      <th>R_hat</th>\n",
              "    </tr>\n",
              "    <tr>\n",
              "      <th>name</th>\n",
              "      <th></th>\n",
              "      <th></th>\n",
              "      <th></th>\n",
              "      <th></th>\n",
              "      <th></th>\n",
              "      <th></th>\n",
              "      <th></th>\n",
              "      <th></th>\n",
              "      <th></th>\n",
              "    </tr>\n",
              "  </thead>\n",
              "  <tbody>\n",
              "    <tr>\n",
              "      <th>p</th>\n",
              "      <td>0.010</td>\n",
              "      <td>0.000</td>\n",
              "      <td>0.004</td>\n",
              "      <td>0.003</td>\n",
              "      <td>0.011</td>\n",
              "      <td>0.017</td>\n",
              "      <td>1474.25</td>\n",
              "      <td>10629.90</td>\n",
              "      <td>1.003</td>\n",
              "    </tr>\n",
              "    <tr>\n",
              "      <th>spec</th>\n",
              "      <td>0.993</td>\n",
              "      <td>0.000</td>\n",
              "      <td>0.003</td>\n",
              "      <td>0.987</td>\n",
              "      <td>0.994</td>\n",
              "      <td>0.998</td>\n",
              "      <td>1358.85</td>\n",
              "      <td>9797.85</td>\n",
              "      <td>1.004</td>\n",
              "    </tr>\n",
              "    <tr>\n",
              "      <th>sens</th>\n",
              "      <td>0.854</td>\n",
              "      <td>0.001</td>\n",
              "      <td>0.031</td>\n",
              "      <td>0.799</td>\n",
              "      <td>0.856</td>\n",
              "      <td>0.901</td>\n",
              "      <td>2300.90</td>\n",
              "      <td>16590.30</td>\n",
              "      <td>1.001</td>\n",
              "    </tr>\n",
              "  </tbody>\n",
              "</table>\n",
              "</div>"
            ],
            "text/plain": [
              "       Mean   MCSE  StdDev     5%    50%    95%    N_Eff   N_Eff/s  R_hat\n",
              "name                                                                     \n",
              "p     0.010  0.000   0.004  0.003  0.011  0.017  1474.25  10629.90  1.003\n",
              "spec  0.993  0.000   0.003  0.987  0.994  0.998  1358.85   9797.85  1.004\n",
              "sens  0.854  0.001   0.031  0.799  0.856  0.901  2300.90  16590.30  1.001"
            ]
          },
          "metadata": {
            "tags": []
          },
          "execution_count": 29
        }
      ]
    },
    {
      "cell_type": "code",
      "metadata": {
        "id": "1htb7q9Oeq8s",
        "colab_type": "code",
        "colab": {
          "base_uri": "https://localhost:8080/",
          "height": 282
        },
        "outputId": "be304c26-95ca-4ad2-f3be-fc454a863896"
      },
      "source": [
        "apr_27_drawset = apr_27_fit.get_drawset()\n",
        "apr_27_drawset.p.plot.hist()"
      ],
      "execution_count": 30,
      "outputs": [
        {
          "output_type": "execute_result",
          "data": {
            "text/plain": [
              "<matplotlib.axes._subplots.AxesSubplot at 0x7f5827a40ac8>"
            ]
          },
          "metadata": {
            "tags": []
          },
          "execution_count": 30
        },
        {
          "output_type": "display_data",
          "data": {
            "image/png": "[encoded data removed]",
            "text/plain": [
              "<Figure size 432x288 with 1 Axes>"
            ]
          },
          "metadata": {
            "tags": [],
            "needs_background": "light"
          }
        }
      ]
    },
    {
      "cell_type": "markdown",
      "metadata": {
        "id": "XM8aWSpUfCy0",
        "colab_type": "text"
      },
      "source": [
        "The hierarchical model allows the sensitivities and specificities to vary across studies.\n",
        "In the blogpost is called \"santaclara_hier.stan\".  We'll call it \"hier_sens_spec.stan\""
      ]
    },
    {
      "cell_type": "code",
      "metadata": {
        "id": "j_kxzeklezvI",
        "colab_type": "code",
        "colab": {
          "base_uri": "https://localhost:8080/",
          "height": 693
        },
        "outputId": "643b6edd-2673-41db-b556-19e8ecfad8f0"
      },
      "source": [
        "!cat hier_sens_spec.stan"
      ],
      "execution_count": 32,
      "outputs": [
        {
          "output_type": "stream",
          "text": [
            "/**\n",
            " * meta-analysis of disease infection rate studies\n",
            " * hierarchical model of sensitivity and specificity\n",
            " * non-centered parameterization\n",
            " */\n",
            "data {\n",
            "  int y_sample;\n",
            "  int n_sample;\n",
            "  int J_spec;\n",
            "  int y_spec [J_spec];\n",
            "  int n_spec [J_spec];\n",
            "  int J_sens;\n",
            "  int y_sens [J_sens];\n",
            "  int n_sens [J_sens];\n",
            "}\n",
            "parameters {\n",
            "  real<lower = 0, upper = 1> p;\n",
            "  real mu_spec;\n",
            "  real<lower = 0> sigma_spec;\n",
            "  real mu_sens;\n",
            "  real<lower = 0> sigma_sens;\n",
            "  vector[J_spec] e_spec;\n",
            "  vector[J_sens] e_sens;\n",
            "}\n",
            "transformed parameters {\n",
            "  vector[J_spec] spec;\n",
            "  vector[J_sens] sens;\n",
            "  spec = inv_logit(mu_spec + sigma_spec * e_spec);\n",
            "  sens = inv_logit(mu_sens + sigma_sens * e_sens);\n",
            "}\n",
            "model {\n",
            "  real p_sample;\n",
            "  p_sample = p * sens[1] + (1 - p) * (1 - spec[1]);\n",
            "  y_sample ~ binomial(n_sample, p_sample);\n",
            "  y_spec ~ binomial(n_spec, spec);\n",
            "  y_sens ~ binomial(n_sens, sens);\n",
            "  e_spec ~ normal(0, 1);\n",
            "  e_sens ~ normal(0, 1);\n",
            "  sigma_spec ~ normal(0, 1);\n",
            "  sigma_sens ~ normal(0, 0.2);\n",
            "}\n"
          ],
          "name": "stdout"
        }
      ]
    },
    {
      "cell_type": "markdown",
      "metadata": {
        "id": "0FstmbADhwDl",
        "colab_type": "text"
      },
      "source": [
        "__Note__: this model has the suggested tight prior on `sigma_sens` in order to compensate for only having data from 3 studies to fit."
      ]
    },
    {
      "cell_type": "markdown",
      "metadata": {
        "id": "dkEXV2VhgIwf",
        "colab_type": "text"
      },
      "source": [
        "For this model, the data is broken out by study.  We copied this data out of page 19 of the report and munged it into the forms required by the model's data block variable definitions."
      ]
    },
    {
      "cell_type": "code",
      "metadata": {
        "id": "z1WhQ8K3f6tP",
        "colab_type": "code",
        "colab": {
          "base_uri": "https://localhost:8080/",
          "height": 148
        },
        "outputId": "bbee0c25-c5bb-4536-e285-e68143883421"
      },
      "source": [
        "hier_data = {}\n",
        "with open('santa_clara_all.data.json') as json_file:\n",
        "    hier_data = json.load(json_file)\n",
        "hier_data"
      ],
      "execution_count": 33,
      "outputs": [
        {
          "output_type": "execute_result",
          "data": {
            "text/plain": [
              "{'J_sens': 4,\n",
              " 'J_spec': 14,\n",
              " 'n_sample': 3330,\n",
              " 'n_sens': [0, 85, 37, 35],\n",
              " 'n_spec': [0, 371, 30, 70, 1102, 300, 311, 500, 200, 99, 31, 150, 108, 52],\n",
              " 'y_sample': 50,\n",
              " 'y_sens': [0, 78, 27, 25],\n",
              " 'y_spec': [0, 368, 30, 70, 1102, 300, 311, 500, 198, 99, 29, 146, 105, 50]}"
            ]
          },
          "metadata": {
            "tags": []
          },
          "execution_count": 33
        }
      ]
    },
    {
      "cell_type": "code",
      "metadata": {
        "id": "yRkkjERag-_J",
        "colab_type": "code",
        "colab": {
          "base_uri": "https://localhost:8080/",
          "height": 198
        },
        "outputId": "035681af-9cb2-42dd-ea99-5b4c0c0ed6fc"
      },
      "source": [
        "hier_model = CmdStanModel(stan_file='hier_sens_spec.stan')\n",
        "hier_fit = hier_model.sample(data=hier_data)"
      ],
      "execution_count": 34,
      "outputs": [
        {
          "output_type": "stream",
          "text": [
            "INFO:cmdstanpy:compiling stan program, exe file: /content/hier_sens_spec\n",
            "INFO:cmdstanpy:compiler options: stanc_options=None, cpp_options=None\n",
            "INFO:cmdstanpy:compiled model file: /content/hier_sens_spec\n",
            "INFO:cmdstanpy:start chain 1\n",
            "INFO:cmdstanpy:finish chain 1\n",
            "INFO:cmdstanpy:start chain 2\n",
            "INFO:cmdstanpy:finish chain 2\n",
            "INFO:cmdstanpy:start chain 3\n",
            "INFO:cmdstanpy:finish chain 3\n",
            "INFO:cmdstanpy:start chain 4\n",
            "INFO:cmdstanpy:finish chain 4\n"
          ],
          "name": "stderr"
        }
      ]
    },
    {
      "cell_type": "code",
      "metadata": {
        "id": "srm_Q95ahPlZ",
        "colab_type": "code",
        "colab": {
          "base_uri": "https://localhost:8080/",
          "height": 217
        },
        "outputId": "51bc6342-553c-400b-8b35-4cdac82707b9"
      },
      "source": [
        "hier_fit.summary().loc[['p', 'mu_spec', 'sigma_spec', 'mu_sens', 'sigma_sens'],].round(decimals=3)"
      ],
      "execution_count": 35,
      "outputs": [
        {
          "output_type": "execute_result",
          "data": {
            "text/html": [
              "<div>\n",
              "<style scoped>\n",
              "    .dataframe tbody tr th:only-of-type {\n",
              "        vertical-align: middle;\n",
              "    }\n",
              "\n",
              "    .dataframe tbody tr th {\n",
              "        vertical-align: top;\n",
              "    }\n",
              "\n",
              "    .dataframe thead th {\n",
              "        text-align: right;\n",
              "    }\n",
              "</style>\n",
              "<table border=\"1\" class=\"dataframe\">\n",
              "  <thead>\n",
              "    <tr style=\"text-align: right;\">\n",
              "      <th></th>\n",
              "      <th>Mean</th>\n",
              "      <th>MCSE</th>\n",
              "      <th>StdDev</th>\n",
              "      <th>5%</th>\n",
              "      <th>50%</th>\n",
              "      <th>95%</th>\n",
              "      <th>N_Eff</th>\n",
              "      <th>N_Eff/s</th>\n",
              "      <th>R_hat</th>\n",
              "    </tr>\n",
              "    <tr>\n",
              "      <th>name</th>\n",
              "      <th></th>\n",
              "      <th></th>\n",
              "      <th></th>\n",
              "      <th></th>\n",
              "      <th></th>\n",
              "      <th></th>\n",
              "      <th></th>\n",
              "      <th></th>\n",
              "      <th></th>\n",
              "    </tr>\n",
              "  </thead>\n",
              "  <tbody>\n",
              "    <tr>\n",
              "      <th>p</th>\n",
              "      <td>0.015</td>\n",
              "      <td>0.000</td>\n",
              "      <td>0.005</td>\n",
              "      <td>0.005</td>\n",
              "      <td>0.015</td>\n",
              "      <td>0.022</td>\n",
              "      <td>743.194</td>\n",
              "      <td>1157.40</td>\n",
              "      <td>1.004</td>\n",
              "    </tr>\n",
              "    <tr>\n",
              "      <th>mu_spec</th>\n",
              "      <td>5.773</td>\n",
              "      <td>0.016</td>\n",
              "      <td>0.667</td>\n",
              "      <td>4.781</td>\n",
              "      <td>5.720</td>\n",
              "      <td>6.942</td>\n",
              "      <td>1757.280</td>\n",
              "      <td>2736.66</td>\n",
              "      <td>1.001</td>\n",
              "    </tr>\n",
              "    <tr>\n",
              "      <th>sigma_spec</th>\n",
              "      <td>1.711</td>\n",
              "      <td>0.012</td>\n",
              "      <td>0.489</td>\n",
              "      <td>0.989</td>\n",
              "      <td>1.674</td>\n",
              "      <td>2.608</td>\n",
              "      <td>1669.150</td>\n",
              "      <td>2599.41</td>\n",
              "      <td>1.002</td>\n",
              "    </tr>\n",
              "    <tr>\n",
              "      <th>mu_sens</th>\n",
              "      <td>1.508</td>\n",
              "      <td>0.005</td>\n",
              "      <td>0.284</td>\n",
              "      <td>1.047</td>\n",
              "      <td>1.511</td>\n",
              "      <td>1.965</td>\n",
              "      <td>2891.420</td>\n",
              "      <td>4502.89</td>\n",
              "      <td>1.001</td>\n",
              "    </tr>\n",
              "    <tr>\n",
              "      <th>sigma_sens</th>\n",
              "      <td>0.272</td>\n",
              "      <td>0.003</td>\n",
              "      <td>0.143</td>\n",
              "      <td>0.040</td>\n",
              "      <td>0.270</td>\n",
              "      <td>0.512</td>\n",
              "      <td>2002.310</td>\n",
              "      <td>3118.25</td>\n",
              "      <td>1.001</td>\n",
              "    </tr>\n",
              "  </tbody>\n",
              "</table>\n",
              "</div>"
            ],
            "text/plain": [
              "             Mean   MCSE  StdDev     5%    50%    95%     N_Eff  N_Eff/s  R_hat\n",
              "name                                                                           \n",
              "p           0.015  0.000   0.005  0.005  0.015  0.022   743.194  1157.40  1.004\n",
              "mu_spec     5.773  0.016   0.667  4.781  5.720  6.942  1757.280  2736.66  1.001\n",
              "sigma_spec  1.711  0.012   0.489  0.989  1.674  2.608  1669.150  2599.41  1.002\n",
              "mu_sens     1.508  0.005   0.284  1.047  1.511  1.965  2891.420  4502.89  1.001\n",
              "sigma_sens  0.272  0.003   0.143  0.040  0.270  0.512  2002.310  3118.25  1.001"
            ]
          },
          "metadata": {
            "tags": []
          },
          "execution_count": 35
        }
      ]
    },
    {
      "cell_type": "markdown",
      "metadata": {
        "id": "sAD1MVohig5F",
        "colab_type": "text"
      },
      "source": [
        "This central 90% interval is [0.005 - 0.022]."
      ]
    },
    {
      "cell_type": "code",
      "metadata": {
        "id": "df24B145heQY",
        "colab_type": "code",
        "colab": {
          "base_uri": "https://localhost:8080/",
          "height": 282
        },
        "outputId": "62fe9c03-513b-49ae-8147-8e69a0e04a28"
      },
      "source": [
        "hier_drawset = hier_fit.get_drawset()\n",
        "hier_drawset.p.plot.hist(bins=20,range=(0.0,0.03),density=True)"
      ],
      "execution_count": 36,
      "outputs": [
        {
          "output_type": "execute_result",
          "data": {
            "text/plain": [
              "<matplotlib.axes._subplots.AxesSubplot at 0x7f5827581a58>"
            ]
          },
          "metadata": {
            "tags": []
          },
          "execution_count": 36
        },
        {
          "output_type": "display_data",
          "data": {
            "image/png": "[encoded data removed]",
            "text/plain": [
              "<Figure size 432x288 with 1 Axes>"
            ]
          },
          "metadata": {
            "tags": [],
            "needs_background": "light"
          }
        }
      ]
    },
    {
      "cell_type": "markdown",
      "metadata": {
        "id": "JXtqYRjPi-V1",
        "colab_type": "text"
      },
      "source": [
        "Bob Carpenter provided a second version of the hierarchical model in which the parameters for the item-level specificities and sensitivies are specified using the Stan language \"offset, multiplier\" syntax which allows for affine transforms on real-valued variables.  See the Stan Language Reference Manual, chapter [Univariate Data Types and Variable Declarations](https://mc-stan.org/docs/2_23/reference-manual/univariate-data-types-and-variable-declarations.html) for further details. We call this model \"hier_sens_spec_offset_mult.stan\"\n"
      ]
    },
    {
      "cell_type": "code",
      "metadata": {
        "id": "4WN9IQVTi7sf",
        "colab_type": "code",
        "colab": {
          "base_uri": "https://localhost:8080/",
          "height": 627
        },
        "outputId": "c7fd475e-9b5d-4291-d290-017f223ab25d"
      },
      "source": [
        "!cat hier_sens_spec_offset_mult.stan"
      ],
      "execution_count": 39,
      "outputs": [
        {
          "output_type": "stream",
          "text": [
            "/**\n",
            " * meta-analysis of disease infection rate studies\n",
            " * hierarchical model of sensitivity and specificity\n",
            " */\n",
            "data {\n",
            "  int y_sample;  // for j = 1\n",
            "  int n_sample;  // for j = 1\n",
            "  int J_spec;\n",
            "  int y_spec [J_spec];  // no samples for j > 1\n",
            "  int n_spec [J_spec];\n",
            "  int J_sens;\n",
            "  int y_sens [J_sens];  // no samples for j > 1\n",
            "  int n_sens [J_sens];\n",
            "}\n",
            "parameters {\n",
            "  real<lower = 0, upper = 1> p;\n",
            "  real mu_logit_spec;\n",
            "  real<lower = 0> sigma_logit_spec;\n",
            "  real mu_logit_sens;\n",
            "  real<lower = 0> sigma_logit_sens;\n",
            "  vector<offset = mu_logit_spec, multiplier = sigma_logit_spec>[J_spec] logit_spec;\n",
            "  vector<offset = mu_logit_sens, multiplier = sigma_logit_sens>[J_sens] logit_sens;\n",
            "}\n",
            "transformed parameters {\n",
            "  vector<lower = 0, upper = 1>[J_spec] spec = inv_logit(logit_spec);\n",
            "  vector<lower = 0, upper = 1>[J_sens] sens = inv_logit(logit_sens);\n",
            "}\n",
            "model {\n",
            "  real p_sample = p * sens[1] + (1 - p) * (1 - spec[1]);  // j = 1\n",
            "  y_sample ~ binomial(n_sample, p_sample);                // j = 1\n",
            "  y_spec ~ binomial_logit(n_spec, logit_spec);\n",
            "  y_sens ~ binomial_logit(n_sens, logit_sens);\n",
            "  logit_spec ~ normal(mu_logit_spec, sigma_logit_spec);\n",
            "  logit_sens ~ normal(mu_logit_sens, sigma_logit_sens);\n",
            "  sigma_logit_spec ~ normal(0, 1);\n",
            "  sigma_logit_sens ~ normal(0, 0.2);\n",
            "}\n"
          ],
          "name": "stdout"
        }
      ]
    },
    {
      "cell_type": "code",
      "metadata": {
        "id": "Q6nNFkrFlJ3u",
        "colab_type": "code",
        "colab": {
          "base_uri": "https://localhost:8080/",
          "height": 382
        },
        "outputId": "58ce6135-57ae-4610-9a65-a8e28ed1a1ef"
      },
      "source": [
        "hier_model_v2 = CmdStanModel(stan_file='hier_sens_spec_offset_mult.stan')\n",
        "hier_fit_v2 = hier_model_v2.sample(data=hier_data)\n",
        "hier_fit_v2.summary().loc[['p', 'mu_logit_spec', 'sigma_logit_spec', 'mu_logit_sens', 'sigma_logit_sens'],].round(decimals=3)"
      ],
      "execution_count": 41,
      "outputs": [
        {
          "output_type": "stream",
          "text": [
            "INFO:cmdstanpy:found newer exe file, not recompiling\n",
            "INFO:cmdstanpy:compiled model file: /content/hier_sens_spec_offset_mult\n",
            "INFO:cmdstanpy:start chain 1\n",
            "INFO:cmdstanpy:finish chain 1\n",
            "INFO:cmdstanpy:start chain 2\n",
            "INFO:cmdstanpy:finish chain 2\n",
            "INFO:cmdstanpy:start chain 3\n",
            "INFO:cmdstanpy:finish chain 3\n",
            "INFO:cmdstanpy:start chain 4\n",
            "INFO:cmdstanpy:finish chain 4\n"
          ],
          "name": "stderr"
        },
        {
          "output_type": "execute_result",
          "data": {
            "text/html": [
              "<div>\n",
              "<style scoped>\n",
              "    .dataframe tbody tr th:only-of-type {\n",
              "        vertical-align: middle;\n",
              "    }\n",
              "\n",
              "    .dataframe tbody tr th {\n",
              "        vertical-align: top;\n",
              "    }\n",
              "\n",
              "    .dataframe thead th {\n",
              "        text-align: right;\n",
              "    }\n",
              "</style>\n",
              "<table border=\"1\" class=\"dataframe\">\n",
              "  <thead>\n",
              "    <tr style=\"text-align: right;\">\n",
              "      <th></th>\n",
              "      <th>Mean</th>\n",
              "      <th>MCSE</th>\n",
              "      <th>StdDev</th>\n",
              "      <th>5%</th>\n",
              "      <th>50%</th>\n",
              "      <th>95%</th>\n",
              "      <th>N_Eff</th>\n",
              "      <th>N_Eff/s</th>\n",
              "      <th>R_hat</th>\n",
              "    </tr>\n",
              "    <tr>\n",
              "      <th>name</th>\n",
              "      <th></th>\n",
              "      <th></th>\n",
              "      <th></th>\n",
              "      <th></th>\n",
              "      <th></th>\n",
              "      <th></th>\n",
              "      <th></th>\n",
              "      <th></th>\n",
              "      <th></th>\n",
              "    </tr>\n",
              "  </thead>\n",
              "  <tbody>\n",
              "    <tr>\n",
              "      <th>p</th>\n",
              "      <td>0.015</td>\n",
              "      <td>0.000</td>\n",
              "      <td>0.005</td>\n",
              "      <td>0.005</td>\n",
              "      <td>0.015</td>\n",
              "      <td>0.023</td>\n",
              "      <td>673.774</td>\n",
              "      <td>881.627</td>\n",
              "      <td>1.006</td>\n",
              "    </tr>\n",
              "    <tr>\n",
              "      <th>mu_logit_spec</th>\n",
              "      <td>5.734</td>\n",
              "      <td>0.019</td>\n",
              "      <td>0.677</td>\n",
              "      <td>4.774</td>\n",
              "      <td>5.673</td>\n",
              "      <td>6.938</td>\n",
              "      <td>1270.930</td>\n",
              "      <td>1662.990</td>\n",
              "      <td>1.002</td>\n",
              "    </tr>\n",
              "    <tr>\n",
              "      <th>sigma_logit_spec</th>\n",
              "      <td>1.709</td>\n",
              "      <td>0.013</td>\n",
              "      <td>0.493</td>\n",
              "      <td>0.991</td>\n",
              "      <td>1.656</td>\n",
              "      <td>2.611</td>\n",
              "      <td>1432.100</td>\n",
              "      <td>1873.890</td>\n",
              "      <td>1.001</td>\n",
              "    </tr>\n",
              "    <tr>\n",
              "      <th>mu_logit_sens</th>\n",
              "      <td>1.502</td>\n",
              "      <td>0.005</td>\n",
              "      <td>0.277</td>\n",
              "      <td>1.039</td>\n",
              "      <td>1.497</td>\n",
              "      <td>1.958</td>\n",
              "      <td>2551.810</td>\n",
              "      <td>3339.030</td>\n",
              "      <td>1.002</td>\n",
              "    </tr>\n",
              "    <tr>\n",
              "      <th>sigma_logit_sens</th>\n",
              "      <td>0.263</td>\n",
              "      <td>0.004</td>\n",
              "      <td>0.147</td>\n",
              "      <td>0.026</td>\n",
              "      <td>0.262</td>\n",
              "      <td>0.514</td>\n",
              "      <td>1130.370</td>\n",
              "      <td>1479.080</td>\n",
              "      <td>1.002</td>\n",
              "    </tr>\n",
              "  </tbody>\n",
              "</table>\n",
              "</div>"
            ],
            "text/plain": [
              "                   Mean   MCSE  StdDev     5%  ...    95%     N_Eff   N_Eff/s  R_hat\n",
              "name                                           ...                                  \n",
              "p                 0.015  0.000   0.005  0.005  ...  0.023   673.774   881.627  1.006\n",
              "mu_logit_spec     5.734  0.019   0.677  4.774  ...  6.938  1270.930  1662.990  1.002\n",
              "sigma_logit_spec  1.709  0.013   0.493  0.991  ...  2.611  1432.100  1873.890  1.001\n",
              "mu_logit_sens     1.502  0.005   0.277  1.039  ...  1.958  2551.810  3339.030  1.002\n",
              "sigma_logit_sens  0.263  0.004   0.147  0.026  ...  0.514  1130.370  1479.080  1.002\n",
              "\n",
              "[5 rows x 9 columns]"
            ]
          },
          "metadata": {
            "tags": []
          },
          "execution_count": 41
        }
      ]
    },
    {
      "cell_type": "code",
      "metadata": {
        "id": "xJ9tfSTBladB",
        "colab_type": "code",
        "colab": {
          "base_uri": "https://localhost:8080/",
          "height": 282
        },
        "outputId": "a4720d50-2682-4b89-fa2d-1aa580360054"
      },
      "source": [
        "hier_drawset_v2 = hier_fit_v2.get_drawset()\n",
        "hier_drawset_v2.p.plot.hist(bins=20,range=(0.0,0.03),density=True)"
      ],
      "execution_count": 42,
      "outputs": [
        {
          "output_type": "execute_result",
          "data": {
            "text/plain": [
              "<matplotlib.axes._subplots.AxesSubplot at 0x7f58274ad278>"
            ]
          },
          "metadata": {
            "tags": []
          },
          "execution_count": 42
        },
        {
          "output_type": "display_data",
          "data": {
            "image/png": "[encoded data removed]",
            "text/plain": [
              "<Figure size 432x288 with 1 Axes>"
            ]
          },
          "metadata": {
            "tags": [],
            "needs_background": "light"
          }
        }
      ]
    },
    {
      "cell_type": "code",
      "metadata": {
        "id": "nZh7IS4fl8VM",
        "colab_type": "code",
        "colab": {}
      },
      "source": [
        ""
      ],
      "execution_count": 0,
      "outputs": []
    }
  ]
}