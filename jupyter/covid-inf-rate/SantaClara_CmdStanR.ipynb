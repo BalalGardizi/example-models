{
  "nbformat": 4,
  "nbformat_minor": 0,
  "metadata": {
    "kernelspec": {
      "display_name": "R",
      "language": "R",
      "name": "ir"
    },
    "language_info": {
      "codemirror_mode": "r",
      "file_extension": ".r",
      "mimetype": "text/x-r-source",
      "name": "R",
      "pygments_lexer": "r",
      "version": "3.6.1"
    },
    "colab": {
      "name": "SantaClara_CmdStanR.ipynb",
      "provenance": [],
      "collapsed_sections": [],
      "include_colab_link": true
    }
  },
  "cells": [
    {
      "cell_type": "markdown",
      "metadata": {
        "id": "view-in-github",
        "colab_type": "text"
      },
      "source": [
        "<a href=\"https://colab.research.google.com/github/stan-dev/example-models/blob/feature%2Fjupyter-notebooks/jupyter/covid-inf-rate/SantaClara_CmdStanR.ipynb\" target=\"_parent\"><img src=\"https://colab.research.google.com/assets/colab-badge.svg\" alt=\"Open In Colab\"/></a>"
      ]
    },
    {
      "cell_type": "markdown",
      "metadata": {
        "id": "_ibOho1Ft0TR",
        "colab_type": "text"
      },
      "source": [
        "# Simple Bayesian analysis inference of coronavirus infection rate from the Stanford study in Santa Clara county\n",
        "\n",
        "This Google Colab Python notebook provides the models and data discussed here:  [Simple Bayesian analysis inference of coronavirus infection rate from the Stanford study in Santa Clara county](https://statmodeling.stat.columbia.edu/2020/05/01/simple-bayesian-analysis-inference-of-coronavirus-infection-rate-from-the-stanford-study-in-santa-clara-county/)\n",
        "\n",
        "It uses CmdStanR to compile and fit the model.\n",
        "\n",
        "#### First up, a little admin to get the latest CmdStanR and CmdStan installed on this instance."
      ]
    },
    {
      "cell_type": "code",
      "metadata": {
        "id": "Dc602vW9t0TS",
        "colab_type": "code",
        "colab": {}
      },
      "source": [
        "# Preliminary setup\n",
        "install.packages('versions')\n",
        "library(versions)\n",
        "# Install package CmdStanR from GitHub\n",
        "library(devtools)\n",
        "if(!require(cmdstanr)){\n",
        "  devtools::install_github(\"stan-dev/cmdstanr\", dependencies=c(\"Depends\", \"Imports\"))\n",
        "  library(cmdstanr)\n",
        "}"
      ],
      "execution_count": 0,
      "outputs": []
    },
    {
      "cell_type": "code",
      "metadata": {
        "id": "UFj_77CJv7zu",
        "colab_type": "code",
        "colab": {}
      },
      "source": [
        "# Install CmdStan binaries\n",
        "if (!file.exists(\"cmdstan-2-22-1.tgz\")) {\n",
        "  system(\"wget https://github.com/stan-dev/cmdstan/releases/download/v2.23.0/colab-cmdstan-2.23.0.tar.gz\", intern=T)\n",
        "  system(\"tar zxf colab-cmdstan-2.23.0.tar.gz\", intern=T)\n",
        "}\n",
        "list.files(\"cmdstan-2.23.0\")"
      ],
      "execution_count": 0,
      "outputs": []
    },
    {
      "cell_type": "code",
      "metadata": {
        "id": "qjID0rxfw-gD",
        "colab_type": "code",
        "colab": {}
      },
      "source": [
        "# Set cmdstan_path to CmdStan installation\n",
        "set_cmdstan_path(\"cmdstan-2.23.0\")"
      ],
      "execution_count": 0,
      "outputs": []
    },
    {
      "cell_type": "code",
      "metadata": {
        "id": "iHFSUnANzd-L",
        "colab_type": "code",
        "colab": {}
      },
      "source": [
        "# helper function\n",
        "print_file <- function(file, nlines=-1L) {\n",
        "  cat(paste(readLines(file, n=nlines), \"\\n\", sep=\"\"), sep=\"\")\n",
        "}"
      ],
      "execution_count": 0,
      "outputs": []
    },
    {
      "cell_type": "markdown",
      "metadata": {
        "id": "TDLyjppPzomw",
        "colab_type": "text"
      },
      "source": [
        "#### Upload models and data from GitHub\n",
        "\n",
        "The models and data are available on the Stan GitHub repo https://github.com/stan-dev/example-models/tree/feature/jupyter-notebooks/jupyter/covid-inf-rate"
      ]
    },
    {
      "cell_type": "code",
      "metadata": {
        "id": "mdTCx8ZpzhpZ",
        "colab_type": "code",
        "colab": {}
      },
      "source": [
        "system(\"wget https://raw.githubusercontent.com/stan-dev/example-models/feature/jupyter-notebooks/jupyter/covid-inf-rate/data/santa_clara_all.data.json\", intern=T)\n",
        "system(\"wget https://raw.githubusercontent.com/stan-dev/example-models/feature/jupyter-notebooks/jupyter/covid-inf-rate/data/santa_clara_apr_11.data.json\", intern=T)\n",
        "system(\"wget https://raw.githubusercontent.com/stan-dev/example-models/feature/jupyter-notebooks/jupyter/covid-inf-rate/data/santa_clara_apr_27.data.json\", intern=T)\n",
        "system(\"wget https://raw.githubusercontent.com/stan-dev/example-models/feature/jupyter-notebooks/jupyter/covid-inf-rate/stan/pool_sens_spec.stan\", intern=T)\n",
        "system(\"wget https://raw.githubusercontent.com/stan-dev/example-models/feature/jupyter-notebooks/jupyter/covid-inf-rate/stan/hier_sens_spec.stan\", intern=T)\n",
        "system(\"wget https://raw.githubusercontent.com/stan-dev/example-models/feature/jupyter-notebooks/jupyter/covid-inf-rate/stan/hier_sens_spec_offset_mult.stan\", intern=T)\n",
        "list.files()\n",
        "\n"
      ],
      "execution_count": 0,
      "outputs": []
    },
    {
      "cell_type": "markdown",
      "metadata": {
        "id": "N2vDhMyh1Ns6",
        "colab_type": "text"
      },
      "source": [
        "In the Santa Clara study, of the 3330 people tested (`n_sample`), 50 test results were positive (`y_sample`).  The first version of the paper was released on April 11th, and used specificity data from two studies and sensitivity data from two other studies.\n"
      ]
    },
    {
      "cell_type": "code",
      "metadata": {
        "id": "LY1vLGJ103II",
        "colab_type": "code",
        "colab": {}
      },
      "source": [
        "print_file(\"santa_clara_apr_11.data.json\")"
      ],
      "execution_count": 0,
      "outputs": []
    },
    {
      "cell_type": "markdown",
      "metadata": {
        "id": "3qEBVT6w1YXm",
        "colab_type": "text"
      },
      "source": [
        "### Simple Model\n",
        "\n",
        "The first Stan model in this blogpost is called \"santaclara.stan\".  It a complete pooling model, therefore we'll call it \"pool_sens_spec.stan\"."
      ]
    },
    {
      "cell_type": "code",
      "metadata": {
        "id": "fv40czp61ClL",
        "colab_type": "code",
        "colab": {}
      },
      "source": [
        "print_file(\"pool_sens_spec.stan\")"
      ],
      "execution_count": 0,
      "outputs": []
    },
    {
      "cell_type": "markdown",
      "metadata": {
        "id": "7ME0UaFv1nS4",
        "colab_type": "text"
      },
      "source": [
        "We use CmdStanR to compile and fit the model to the data."
      ]
    },
    {
      "cell_type": "code",
      "metadata": {
        "id": "t3kJvxDl1etn",
        "colab_type": "code",
        "colab": {}
      },
      "source": [
        "pool_model <- cmdstan_model(stan_file='pool_sens_spec.stan')\n",
        "apr_11_fit <- pool_model$sample(data='santa_clara_apr_11.data.json')\n"
      ],
      "execution_count": 0,
      "outputs": []
    },
    {
      "cell_type": "code",
      "metadata": {
        "id": "v8KvsQcr2UJd",
        "colab_type": "code",
        "colab": {}
      },
      "source": [
        "options(digits = 2)\n",
        "apr_11_fit$summary()\n"
      ],
      "execution_count": 0,
      "outputs": []
    },
    {
      "cell_type": "markdown",
      "metadata": {
        "id": "6CC8WjYB5kdL",
        "colab_type": "text"
      },
      "source": [
        "Given the April 11th dataset, the central 95% interval is [0.002 - 0.017], thus the data are consistent with an underlying infection rate of between 0 and 2%."
      ]
    },
    {
      "cell_type": "code",
      "metadata": {
        "id": "ZZOMULWq2khz",
        "colab_type": "code",
        "colab": {}
      },
      "source": [
        "apr_11_draws <- apr_11_fit$draws()\n",
        "hist(apr_11_draws[,,\"p\"])"
      ],
      "execution_count": 0,
      "outputs": []
    },
    {
      "cell_type": "markdown",
      "metadata": {
        "id": "dgUs9FHJ7Guo",
        "colab_type": "text"
      },
      "source": [
        "We repeat this procedure with the data from the April 27th version of the study, which has specificity data from 13 studies and sensitivity data from 3 studies.  Again, we pool the results from all studies."
      ]
    },
    {
      "cell_type": "code",
      "metadata": {
        "id": "Qut29QQ86sRd",
        "colab_type": "code",
        "colab": {}
      },
      "source": [
        "apr_27_fit <- pool_model$sample(data='santa_clara_apr_27.data.json')\n"
      ],
      "execution_count": 0,
      "outputs": []
    },
    {
      "cell_type": "code",
      "metadata": {
        "id": "ohUphLBP7X21",
        "colab_type": "code",
        "colab": {}
      },
      "source": [
        "apr_27_fit$summary()\n",
        "apr_27_draws <- apr_27_fit$draws()\n",
        "hist(apr_27_draws[,,\"p\"])\n"
      ],
      "execution_count": 0,
      "outputs": []
    },
    {
      "cell_type": "markdown",
      "metadata": {
        "id": "9hnvISZJ7q_T",
        "colab_type": "text"
      },
      "source": [
        "### Hierarchical Model\n",
        "\n",
        "The hierarchical model allows the sensitivities and specificities to vary across studies.\n",
        "In the blogpost is called \"santaclara_hier.stan\".  We'll call it \"hier_sens_spec.stan\n",
        "\n"
      ]
    },
    {
      "cell_type": "code",
      "metadata": {
        "id": "vVcPXzJ27fXf",
        "colab_type": "code",
        "colab": {}
      },
      "source": [
        "print_file(\"hier_sens_spec.stan\")"
      ],
      "execution_count": 0,
      "outputs": []
    },
    {
      "cell_type": "markdown",
      "metadata": {
        "id": "R_luLy8k7rSA",
        "colab_type": "text"
      },
      "source": [
        "__Note__: this model has the suggested tight prior on `sigma_sens` in order to compensate for only having data from 3 studies to fit.\n",
        "\n",
        "For this model, the data is broken out by study.  We copied this data out of page 19 of the report and munged it into the forms required by the model's data block variable definitions."
      ]
    },
    {
      "cell_type": "code",
      "metadata": {
        "id": "ReDYnuOb78xc",
        "colab_type": "code",
        "colab": {}
      },
      "source": [
        "print_file(\"santa_clara_all.data.json\")"
      ],
      "execution_count": 0,
      "outputs": []
    },
    {
      "cell_type": "code",
      "metadata": {
        "id": "z62zbflq8Ivu",
        "colab_type": "code",
        "colab": {}
      },
      "source": [
        "hier_model <- cmdstan_model(stan_file='hier_sens_spec.stan')\n",
        "hier_fit <- hier_model$sample(data='santa_clara_all.data.json')\n"
      ],
      "execution_count": 0,
      "outputs": []
    },
    {
      "cell_type": "markdown",
      "metadata": {
        "id": "n-pky8hw7rXy",
        "colab_type": "text"
      },
      "source": [
        "This central 95% interval is [0.004 - 0.022]."
      ]
    },
    {
      "cell_type": "code",
      "metadata": {
        "id": "98TZwYPU8I-j",
        "colab_type": "code",
        "colab": {}
      },
      "source": [
        "hier_fit$summary()\n",
        "hier_draws <- hier_fit$draws()\n",
        "hist(hier_draws[,,\"p\"])\n"
      ],
      "execution_count": 0,
      "outputs": []
    },
    {
      "cell_type": "markdown",
      "metadata": {
        "id": "IlMIfqDv9LZc",
        "colab_type": "text"
      },
      "source": [
        "Bob Carpenter provided a second version of the hierarchical model in which the parameters for the item-level specificities and sensitivies are specified using the Stan language \"offset, multiplier\" syntax which allows for affine transforms on real-valued variables.  See the Stan Language Reference Manual, chapter [Univariate Data Types and Variable Declarations](https://mc-stan.org/docs/2_23/reference-manual/univariate-data-types-and-variable-declarations.html) for further details. We call this model \"hier_sens_spec_offset_mult.stan"
      ]
    },
    {
      "cell_type": "code",
      "metadata": {
        "id": "nfHLxT1U9AyT",
        "colab_type": "code",
        "colab": {}
      },
      "source": [
        "print_file(\"hier_sens_spec_offset_mult.stan\")"
      ],
      "execution_count": 0,
      "outputs": []
    },
    {
      "cell_type": "code",
      "metadata": {
        "id": "imYp51mw9WAL",
        "colab_type": "code",
        "colab": {}
      },
      "source": [
        "hier_model_v2 <- cmdstan_model(stan_file='hier_sens_spec_offset_mult.stan')\n",
        "hier_fit_v2 <- hier_model_v2$sample(data='santa_clara_all.data.json')"
      ],
      "execution_count": 0,
      "outputs": []
    },
    {
      "cell_type": "code",
      "metadata": {
        "id": "5_ylSKSD9iZ5",
        "colab_type": "code",
        "colab": {}
      },
      "source": [
        "hier_fit_v2$summary()\n",
        "hier_draws_v2 <- hier_fit_v2$draws()\n",
        "hist(hier_draws_v2[,,\"p\"])"
      ],
      "execution_count": 0,
      "outputs": []
    },
    {
      "cell_type": "code",
      "metadata": {
        "id": "P9jZ_y8s9z9W",
        "colab_type": "code",
        "colab": {}
      },
      "source": [
        ""
      ],
      "execution_count": 0,
      "outputs": []
    }
  ]
}